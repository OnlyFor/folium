{
 "cells": [
  {
   "cell_type": "code",
   "execution_count": 1,
   "id": "a5afbf8f",
   "metadata": {
    "execution": {
     "iopub.execute_input": "2023-11-27T14:09:49.498719Z",
     "iopub.status.busy": "2023-11-27T14:09:49.498563Z",
     "iopub.status.idle": "2023-11-27T14:09:49.965721Z",
     "shell.execute_reply": "2023-11-27T14:09:49.965219Z"
    },
    "nbsphinx": "hidden"
   },
   "outputs": [],
   "source": [
    "import folium\n",
    "import folium.plugins"
   ]
  },
  {
   "cell_type": "markdown",
   "id": "bfa448ae",
   "metadata": {},
   "source": [
    "## ScrollZoomToggler\n",
    "\n",
    "Add a button to enable/disable zoom scrolling."
   ]
  },
  {
   "cell_type": "code",
   "execution_count": 2,
   "id": "f7290886",
   "metadata": {
    "execution": {
     "iopub.execute_input": "2023-11-27T14:09:49.968087Z",
     "iopub.status.busy": "2023-11-27T14:09:49.967844Z",
     "iopub.status.idle": "2023-11-27T14:09:49.979045Z",
     "shell.execute_reply": "2023-11-27T14:09:49.978603Z"
    }
   },
   "outputs": [
    {
     "data": {
      "text/html": [
       "<div style=\"width:100%;\"><div style=\"position:relative;width:100%;height:0;padding-bottom:60%;\"><span style=\"color:#565656\">Make this Notebook Trusted to load map: File -> Trust Notebook</span><iframe srcdoc=\"&lt;!DOCTYPE html&gt;\n",
       "&lt;html&gt;\n",
       "&lt;head&gt;\n",
       "    \n",
       "    &lt;meta http-equiv=&quot;content-type&quot; content=&quot;text/html; charset=UTF-8&quot; /&gt;\n",
       "    \n",
       "        &lt;script&gt;\n",
       "            L_NO_TOUCH = false;\n",
       "            L_DISABLE_3D = false;\n",
       "        &lt;/script&gt;\n",
       "    \n",
       "    &lt;style&gt;html, body {width: 100%;height: 100%;margin: 0;padding: 0;}&lt;/style&gt;\n",
       "    &lt;style&gt;#map {position:absolute;top:0;bottom:0;right:0;left:0;}&lt;/style&gt;\n",
       "    &lt;script src=&quot;https://cdn.jsdelivr.net/npm/leaflet@1.9.3/dist/leaflet.js&quot;&gt;&lt;/script&gt;\n",
       "    &lt;script src=&quot;https://code.jquery.com/jquery-3.7.1.min.js&quot;&gt;&lt;/script&gt;\n",
       "    &lt;script src=&quot;https://cdn.jsdelivr.net/npm/bootstrap@5.2.2/dist/js/bootstrap.bundle.min.js&quot;&gt;&lt;/script&gt;\n",
       "    &lt;script src=&quot;https://cdnjs.cloudflare.com/ajax/libs/Leaflet.awesome-markers/2.0.2/leaflet.awesome-markers.js&quot;&gt;&lt;/script&gt;\n",
       "    &lt;link rel=&quot;stylesheet&quot; href=&quot;https://cdn.jsdelivr.net/npm/leaflet@1.9.3/dist/leaflet.css&quot;/&gt;\n",
       "    &lt;link rel=&quot;stylesheet&quot; href=&quot;https://cdn.jsdelivr.net/npm/bootstrap@5.2.2/dist/css/bootstrap.min.css&quot;/&gt;\n",
       "    &lt;link rel=&quot;stylesheet&quot; href=&quot;https://netdna.bootstrapcdn.com/bootstrap/3.0.0/css/bootstrap.min.css&quot;/&gt;\n",
       "    &lt;link rel=&quot;stylesheet&quot; href=&quot;https://cdn.jsdelivr.net/npm/@fortawesome/fontawesome-free@6.2.0/css/all.min.css&quot;/&gt;\n",
       "    &lt;link rel=&quot;stylesheet&quot; href=&quot;https://cdnjs.cloudflare.com/ajax/libs/Leaflet.awesome-markers/2.0.2/leaflet.awesome-markers.css&quot;/&gt;\n",
       "    &lt;link rel=&quot;stylesheet&quot; href=&quot;https://cdn.jsdelivr.net/gh/python-visualization/folium/folium/templates/leaflet.awesome.rotate.min.css&quot;/&gt;\n",
       "    \n",
       "            &lt;meta name=&quot;viewport&quot; content=&quot;width=device-width,\n",
       "                initial-scale=1.0, maximum-scale=1.0, user-scalable=no&quot; /&gt;\n",
       "            &lt;style&gt;\n",
       "                #map_376684d513e5251a2ccf67eb4c0dcb62 {\n",
       "                    position: relative;\n",
       "                    width: 100.0%;\n",
       "                    height: 100.0%;\n",
       "                    left: 0.0%;\n",
       "                    top: 0.0%;\n",
       "                }\n",
       "                .leaflet-container { font-size: 1rem; }\n",
       "            &lt;/style&gt;\n",
       "        \n",
       "    \n",
       "            &lt;style&gt;\n",
       "                #scroll_zoom_toggler_630a5c960b649c69a1f295f631e99f61 {\n",
       "                    position:absolute;\n",
       "                    width:35px;\n",
       "                    bottom:10px;\n",
       "                    height:35px;\n",
       "                    left:10px;\n",
       "                    background-color:#fff;\n",
       "                    text-align:center;\n",
       "                    line-height:35px;\n",
       "                    vertical-align: middle;\n",
       "                    }\n",
       "            &lt;/style&gt;\n",
       "        \n",
       "&lt;/head&gt;\n",
       "&lt;body&gt;\n",
       "    \n",
       "    \n",
       "            &lt;div class=&quot;folium-map&quot; id=&quot;map_376684d513e5251a2ccf67eb4c0dcb62&quot; &gt;&lt;/div&gt;\n",
       "        \n",
       "    \n",
       "            &lt;img id=&quot;scroll_zoom_toggler_630a5c960b649c69a1f295f631e99f61&quot;\n",
       "                 alt=&quot;scroll&quot;\n",
       "                 src=&quot;https://cdnjs.cloudflare.com/ajax/libs/ionicons/2.0.1/png/512/arrow-move.png&quot;\n",
       "                 style=&quot;z-index: 999999&quot;\n",
       "                 onclick=&quot;map_376684d513e5251a2ccf67eb4c0dcb62.toggleScroll()&quot;&gt;\n",
       "            &lt;/img&gt;\n",
       "        \n",
       "&lt;/body&gt;\n",
       "&lt;script&gt;\n",
       "    \n",
       "    \n",
       "            var map_376684d513e5251a2ccf67eb4c0dcb62 = L.map(\n",
       "                &quot;map_376684d513e5251a2ccf67eb4c0dcb62&quot;,\n",
       "                {\n",
       "                    center: [45.0, 3.0],\n",
       "                    crs: L.CRS.EPSG3857,\n",
       "                    zoom: 4,\n",
       "                    zoomControl: true,\n",
       "                    preferCanvas: false,\n",
       "                }\n",
       "            );\n",
       "\n",
       "            \n",
       "\n",
       "        \n",
       "    \n",
       "            var tile_layer_67f31432496490e1ab89b9add63dcd9c = L.tileLayer(\n",
       "                &quot;https://tile.openstreetmap.org/{z}/{x}/{y}.png&quot;,\n",
       "                {&quot;attribution&quot;: &quot;\\u0026copy; \\u003ca href=\\&quot;https://www.openstreetmap.org/copyright\\&quot;\\u003eOpenStreetMap\\u003c/a\\u003e contributors&quot;, &quot;detectRetina&quot;: false, &quot;maxNativeZoom&quot;: 19, &quot;maxZoom&quot;: 19, &quot;minZoom&quot;: 0, &quot;noWrap&quot;: false, &quot;opacity&quot;: 1, &quot;subdomains&quot;: &quot;abc&quot;, &quot;tms&quot;: false}\n",
       "            );\n",
       "        \n",
       "    \n",
       "            tile_layer_67f31432496490e1ab89b9add63dcd9c.addTo(map_376684d513e5251a2ccf67eb4c0dcb62);\n",
       "        \n",
       "    \n",
       "            map_376684d513e5251a2ccf67eb4c0dcb62.scrollEnabled = true;\n",
       "\n",
       "            map_376684d513e5251a2ccf67eb4c0dcb62.toggleScroll = function() {\n",
       "                if (this.scrollEnabled) {\n",
       "                    this.scrollEnabled = false;\n",
       "                    this.scrollWheelZoom.disable();\n",
       "                } else {\n",
       "                    this.scrollEnabled = true;\n",
       "                    this.scrollWheelZoom.enable();\n",
       "                }\n",
       "            };\n",
       "            map_376684d513e5251a2ccf67eb4c0dcb62.toggleScroll();\n",
       "        \n",
       "&lt;/script&gt;\n",
       "&lt;/html&gt;\" style=\"position:absolute;width:100%;height:100%;left:0;top:0;border:none !important;\" allowfullscreen webkitallowfullscreen mozallowfullscreen></iframe></div></div>"
      ],
      "text/plain": [
       "<folium.folium.Map at 0x7f7ec0798b90>"
      ]
     },
     "execution_count": 2,
     "metadata": {},
     "output_type": "execute_result"
    }
   ],
   "source": [
    "m = folium.Map([45, 3], zoom_start=4)\n",
    "\n",
    "folium.plugins.ScrollZoomToggler().add_to(m)\n",
    "\n",
    "m"
   ]
  }
 ],
 "metadata": {
  "jupytext": {
   "text_representation": {
    "extension": ".mystnb",
    "format_name": "myst"
   }
  },
  "language_info": {
   "codemirror_mode": {
    "name": "ipython",
    "version": 3
   },
   "file_extension": ".py",
   "mimetype": "text/x-python",
   "name": "python",
   "nbconvert_exporter": "python",
   "pygments_lexer": "ipython3",
   "version": "3.12.0"
  }
 },
 "nbformat": 4,
 "nbformat_minor": 5
}
