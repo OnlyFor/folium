{
 "cells": [
  {
   "cell_type": "markdown",
   "id": "ff9efc5a",
   "metadata": {},
   "source": [
    "## Heatmap"
   ]
  },
  {
   "cell_type": "code",
   "execution_count": 1,
   "id": "8074c180",
   "metadata": {
    "execution": {
     "iopub.execute_input": "2023-11-06T17:07:26.613472Z",
     "iopub.status.busy": "2023-11-06T17:07:26.612873Z",
     "iopub.status.idle": "2023-11-06T17:07:26.699823Z",
     "shell.execute_reply": "2023-11-06T17:07:26.699200Z"
    }
   },
   "outputs": [],
   "source": [
    "import numpy as np\n",
    "\n",
    "data = (\n",
    "    np.random.normal(size=(100, 3)) * np.array([[1, 1, 1]]) + np.array([[48, 5, 1]])\n",
    ").tolist()"
   ]
  },
  {
   "cell_type": "code",
   "execution_count": 2,
   "id": "e9209208",
   "metadata": {
    "execution": {
     "iopub.execute_input": "2023-11-06T17:07:26.703583Z",
     "iopub.status.busy": "2023-11-06T17:07:26.703020Z",
     "iopub.status.idle": "2023-11-06T17:07:27.343621Z",
     "shell.execute_reply": "2023-11-06T17:07:27.342871Z"
    }
   },
   "outputs": [
    {
     "data": {
      "text/html": [
       "<div style=\"width:100%;\"><div style=\"position:relative;width:100%;height:0;padding-bottom:60%;\"><span style=\"color:#565656\">Make this Notebook Trusted to load map: File -> Trust Notebook</span><iframe srcdoc=\"&lt;!DOCTYPE html&gt;\n",
       "&lt;html&gt;\n",
       "&lt;head&gt;\n",
       "    \n",
       "    &lt;meta http-equiv=&quot;content-type&quot; content=&quot;text/html; charset=UTF-8&quot; /&gt;\n",
       "    \n",
       "        &lt;script&gt;\n",
       "            L_NO_TOUCH = false;\n",
       "            L_DISABLE_3D = false;\n",
       "        &lt;/script&gt;\n",
       "    \n",
       "    &lt;style&gt;html, body {width: 100%;height: 100%;margin: 0;padding: 0;}&lt;/style&gt;\n",
       "    &lt;style&gt;#map {position:absolute;top:0;bottom:0;right:0;left:0;}&lt;/style&gt;\n",
       "    &lt;script src=&quot;https://cdn.jsdelivr.net/npm/leaflet@1.9.3/dist/leaflet.js&quot;&gt;&lt;/script&gt;\n",
       "    &lt;script src=&quot;https://code.jquery.com/jquery-3.7.1.min.js&quot;&gt;&lt;/script&gt;\n",
       "    &lt;script src=&quot;https://cdn.jsdelivr.net/npm/bootstrap@5.2.2/dist/js/bootstrap.bundle.min.js&quot;&gt;&lt;/script&gt;\n",
       "    &lt;script src=&quot;https://cdnjs.cloudflare.com/ajax/libs/Leaflet.awesome-markers/2.0.2/leaflet.awesome-markers.js&quot;&gt;&lt;/script&gt;\n",
       "    &lt;link rel=&quot;stylesheet&quot; href=&quot;https://cdn.jsdelivr.net/npm/leaflet@1.9.3/dist/leaflet.css&quot;/&gt;\n",
       "    &lt;link rel=&quot;stylesheet&quot; href=&quot;https://cdn.jsdelivr.net/npm/bootstrap@5.2.2/dist/css/bootstrap.min.css&quot;/&gt;\n",
       "    &lt;link rel=&quot;stylesheet&quot; href=&quot;https://netdna.bootstrapcdn.com/bootstrap/3.0.0/css/bootstrap.min.css&quot;/&gt;\n",
       "    &lt;link rel=&quot;stylesheet&quot; href=&quot;https://cdn.jsdelivr.net/npm/@fortawesome/fontawesome-free@6.2.0/css/all.min.css&quot;/&gt;\n",
       "    &lt;link rel=&quot;stylesheet&quot; href=&quot;https://cdnjs.cloudflare.com/ajax/libs/Leaflet.awesome-markers/2.0.2/leaflet.awesome-markers.css&quot;/&gt;\n",
       "    &lt;link rel=&quot;stylesheet&quot; href=&quot;https://cdn.jsdelivr.net/gh/python-visualization/folium/folium/templates/leaflet.awesome.rotate.min.css&quot;/&gt;\n",
       "    \n",
       "            &lt;meta name=&quot;viewport&quot; content=&quot;width=device-width,\n",
       "                initial-scale=1.0, maximum-scale=1.0, user-scalable=no&quot; /&gt;\n",
       "            &lt;style&gt;\n",
       "                #map_81bee0f4fa27b1a57faab7043538bc40 {\n",
       "                    position: relative;\n",
       "                    width: 100.0%;\n",
       "                    height: 100.0%;\n",
       "                    left: 0.0%;\n",
       "                    top: 0.0%;\n",
       "                }\n",
       "                .leaflet-container { font-size: 1rem; }\n",
       "            &lt;/style&gt;\n",
       "        \n",
       "    &lt;script src=&quot;https://cdn.jsdelivr.net/gh/python-visualization/folium@main/folium/templates/leaflet_heat.min.js&quot;&gt;&lt;/script&gt;\n",
       "&lt;/head&gt;\n",
       "&lt;body&gt;\n",
       "    \n",
       "    \n",
       "            &lt;div class=&quot;folium-map&quot; id=&quot;map_81bee0f4fa27b1a57faab7043538bc40&quot; &gt;&lt;/div&gt;\n",
       "        \n",
       "&lt;/body&gt;\n",
       "&lt;script&gt;\n",
       "    \n",
       "    \n",
       "            var map_81bee0f4fa27b1a57faab7043538bc40 = L.map(\n",
       "                &quot;map_81bee0f4fa27b1a57faab7043538bc40&quot;,\n",
       "                {\n",
       "                    center: [48.0, 5.0],\n",
       "                    crs: L.CRS.EPSG3857,\n",
       "                    zoom: 6,\n",
       "                    zoomControl: true,\n",
       "                    preferCanvas: false,\n",
       "                }\n",
       "            );\n",
       "\n",
       "            \n",
       "\n",
       "        \n",
       "    \n",
       "            var tile_layer_c4aee6d3ab63a2b987c8721df6730d32 = L.tileLayer(\n",
       "                &quot;https://{s}.tile.openstreetmap.org/{z}/{x}/{y}.png&quot;,\n",
       "                {&quot;attribution&quot;: &quot;Data by \\u0026copy; \\u003ca target=\\&quot;_blank\\&quot; href=\\&quot;http://openstreetmap.org\\&quot;\\u003eOpenStreetMap\\u003c/a\\u003e, under \\u003ca target=\\&quot;_blank\\&quot; href=\\&quot;http://www.openstreetmap.org/copyright\\&quot;\\u003eODbL\\u003c/a\\u003e.&quot;, &quot;detectRetina&quot;: false, &quot;maxNativeZoom&quot;: 18, &quot;maxZoom&quot;: 18, &quot;minZoom&quot;: 0, &quot;noWrap&quot;: false, &quot;opacity&quot;: 1, &quot;subdomains&quot;: &quot;abc&quot;, &quot;tms&quot;: false}\n",
       "            );\n",
       "        \n",
       "    \n",
       "                tile_layer_c4aee6d3ab63a2b987c8721df6730d32.addTo(map_81bee0f4fa27b1a57faab7043538bc40);\n",
       "    \n",
       "            var heat_map_d310043963a891f2fa7ca5b96ce92890 = L.heatLayer(\n",
       "                [[49.148596670776996, 5.048969799458861, 0.9224754388523524], [48.29891570780136, 5.0299798123273165, 2.381015965159919], [47.89350292167354, 3.9655874002491323, 2.2793774143059893], [46.24723659852162, 5.378094507556322, -0.33512371902979354], [48.75651676296245, 7.204064723996394, 0.23102888952011313], [47.72369970074614, 5.007646850818678, 0.9874815384384967], [49.51330283226118, 5.76424403313703, 2.059429580172867], [49.20544999084548, 5.883381939557798, 1.3632513352492217], [48.120477944314864, 4.321796499073375, 0.034378865045575635], [50.58841937039499, 4.823888060281916, 0.4411975742104203], [48.471407122335975, 3.9285570807971757, 2.366888359482431], [48.31137662942753, 4.610667940720123, 1.3694067445914115], [48.499661258134125, 6.724981594179167, 0.08089870064305948], [47.393633763862404, 4.4029969049472015, 1.5257618071426773], [48.22234897368857, 4.866079131093753, 0.3212493824567596], [48.46385160618581, 4.738944756288486, 0.632008477554467], [47.509661940272444, 4.5726728551945675, 2.1469552092914252], [47.82520929349889, 6.821605137717683, 1.2555141806860548], [48.37437125307953, 5.50500007516649, 1.5111071840115131], [49.82467090605896, 4.747586462118487, 1.0757020621466469], [47.88809816898301, 4.980726779643833, 0.37440884868571944], [48.222246522756926, 4.55943907386382, 1.220310467349612], [47.65269453531665, 4.854656329559066, 1.1137041423412186], [48.994589926581796, 4.592781894418173, 0.4609859334386436], [46.0232408718214, 4.905323735741356, 1.5702120215456148], [47.616532106255235, 6.184673942206328, 1.4329363155278099], [47.71900537366316, 4.707300911686557, -1.1562837132573573], [49.420298130300125, 5.4941834468126824, 1.6616807850872877], [45.75165938721915, 5.22795118748047, 2.798179983851708], [48.97599549078043, 5.6721287035588785, -0.4993445307648623], [46.697871876990654, 5.470201553694788, 0.4499117617510704], [47.71531297748513, 4.372201514243569, -0.18365934000071582], [48.293847887349706, 4.2598594606158375, 1.2095964706568878], [48.6352488665488, 5.7646307834133035, 1.0388110936502606], [46.48968812316507, 5.944816632808844, 3.3649225826656934], [47.87931165544402, 6.079546476796297, 1.866875641004561], [46.90439772623435, 4.514467713591945, 1.7344071736995352], [49.18403389468161, 4.085447269391521, 0.3968759409979187], [47.907867663561, 3.8702732598024383, 1.5772954710271057], [49.01783541162913, 4.385706338185237, -0.3561475674426411], [47.89587277823529, 5.938555868903779, 0.4767693243830825], [48.003043940615264, 6.148957202060547, 1.9508912870652182], [50.32214339375863, 6.217166644388661, 2.5368906016252852], [46.72943666883493, 5.345514077954711, -0.24433873713483778], [49.698352978832226, 4.064405739703177, 0.650115482247003], [49.8621502330985, 5.357056200912317, 2.8382820626248844], [47.467784092218956, 5.605364366331029, 1.8105396964801954], [50.2220795139479, 4.22525690348476, 0.6593990713484149], [49.79959151708672, 5.446698730205916, 0.46599495204092634], [47.90223973461567, 4.812944753555206, 0.8240002949198896], [48.618343797522556, 5.164655913602845, 2.1608122491831416], [47.59201727479653, 4.776534476336023, 2.160523709221725], [50.63355650052232, 5.585567949061608, 1.5247105184991963], [47.970990102946594, 4.7128913864343085, 0.3440651928631068], [50.07717442655111, 5.28166700300684, 1.668693758834546], [48.470439799679895, 6.294511032056545, 0.7726222619325742], [48.33477547668542, 6.310090168483605, -0.7059579159215503], [47.56898674632959, 4.794641323857372, -0.9280378649791343], [49.97739697174003, 4.3276769119072185, 0.3715217014978841], [48.38245600612071, 6.262014234508685, -0.12968772648614135], [49.89058228311189, 3.4275811016314157, 1.0382807866598622], [47.61208967335007, 7.529961301995574, 2.652131676767632], [48.670228897353795, 6.22573755352544, -0.8259848566742984], [47.71369427274519, 3.137558452505118, 0.8308217674221571], [48.779616666036645, 6.34655479357624, -0.3562238167253582], [48.064441126336476, 5.051064206705661, 0.03415238228987394], [47.81396772857605, 4.788196978872863, 1.9689056984394337], [48.66819365753811, 5.032149123638999, -0.22405760931181962], [47.63156707322849, 6.219380209787137, 0.2964767187958979], [47.518449117895216, 5.917515932319111, 1.4587337779543788], [46.02935069004413, 5.841334055106679, 0.5733339416336366], [47.47584976097354, 3.8042196464528666, 0.45930787617373525], [46.45087326508477, 4.480621407356439, 2.5407307900698317], [47.88376075613065, 6.644112375162165, 1.672512503867876], [48.03577222027042, 2.521910290717755, -0.49219214824342816], [48.434293157821166, 5.230352566636811, -0.6165106173737842], [47.16953915912031, 4.9721028022294345, 2.0844296493885848], [46.67925941439132, 3.6157867179372505, -0.211390546704451], [46.7947579230265, 4.7404431677197385, 1.5950156064949566], [47.9553766756573, 3.983158256047475, 2.4001015873071374], [48.28918329427542, 4.827696825518574, 1.4134160666036975], [50.18753785562375, 3.6480427418695793, 2.3889102668221716], [46.68459853257308, 5.097900326991365, 1.1586010686196075], [47.15907134124131, 6.1953768986389735, 2.196172025071493], [47.07465012439048, 5.95622175131453, 0.1344295928764052], [48.42176669900734, 3.507703750610334, 2.3556271394275603], [47.95525667865395, 3.767785582371909, -0.9838025890289921], [49.390193773552966, 6.632416227425389, 0.16687397684782623], [46.4248025755914, 5.747462478554424, 1.6033837030797882], [48.74992614381011, 6.118748227268856, 0.814696538095222], [46.602634851802364, 4.594521745139634, 0.874652060993222], [46.424542730027284, 4.556718865919224, 0.8616260732006653], [47.26978351402329, 6.892495488757703, 1.133091200602175], [48.66179236212408, 6.218658859506667, 1.1913760737282517], [47.385706599877025, 3.827384978640498, 1.1714694284201044], [49.699009438693686, 4.345798980772811, 1.5780970050479488], [48.39120957927492, 5.697226348019414, 0.8395071403784065], [45.85121373569981, 5.958516687708429, 1.2611034940879537], [45.927398021671934, 5.516293950449625, 0.7410684190330767], [49.112994787064146, 5.8855093815308, 1.5629676609878311]],\n",
       "                {&quot;blur&quot;: 15, &quot;maxZoom&quot;: 18, &quot;minOpacity&quot;: 0.5, &quot;radius&quot;: 25}\n",
       "            );\n",
       "        \n",
       "    \n",
       "                heat_map_d310043963a891f2fa7ca5b96ce92890.addTo(map_81bee0f4fa27b1a57faab7043538bc40);\n",
       "&lt;/script&gt;\n",
       "&lt;/html&gt;\" style=\"position:absolute;width:100%;height:100%;left:0;top:0;border:none !important;\" allowfullscreen webkitallowfullscreen mozallowfullscreen></iframe></div></div>"
      ],
      "text/plain": [
       "<folium.folium.Map at 0x7f759d42fa40>"
      ]
     },
     "execution_count": 2,
     "metadata": {},
     "output_type": "execute_result"
    }
   ],
   "source": [
    "import folium\n",
    "from folium.plugins import HeatMap\n",
    "\n",
    "m = folium.Map([48.0, 5.0], zoom_start=6)\n",
    "\n",
    "HeatMap(data).add_to(m)\n",
    "\n",
    "m"
   ]
  }
 ],
 "metadata": {
  "jupytext": {
   "text_representation": {
    "extension": ".mystnb",
    "format_name": "myst"
   }
  },
  "language_info": {
   "codemirror_mode": {
    "name": "ipython",
    "version": 3
   },
   "file_extension": ".py",
   "mimetype": "text/x-python",
   "name": "python",
   "nbconvert_exporter": "python",
   "pygments_lexer": "ipython3",
   "version": "3.12.0"
  }
 },
 "nbformat": 4,
 "nbformat_minor": 5
}
