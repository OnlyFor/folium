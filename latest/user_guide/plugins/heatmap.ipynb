{
 "cells": [
  {
   "cell_type": "markdown",
   "id": "98aaf118",
   "metadata": {},
   "source": [
    "## Heatmap"
   ]
  },
  {
   "cell_type": "code",
   "execution_count": 1,
   "id": "aa13c50c",
   "metadata": {
    "execution": {
     "iopub.execute_input": "2023-11-27T14:09:30.300313Z",
     "iopub.status.busy": "2023-11-27T14:09:30.299929Z",
     "iopub.status.idle": "2023-11-27T14:09:30.362483Z",
     "shell.execute_reply": "2023-11-27T14:09:30.362013Z"
    }
   },
   "outputs": [],
   "source": [
    "import numpy as np\n",
    "\n",
    "data = (\n",
    "    np.random.normal(size=(100, 3)) * np.array([[1, 1, 1]]) + np.array([[48, 5, 1]])\n",
    ").tolist()"
   ]
  },
  {
   "cell_type": "code",
   "execution_count": 2,
   "id": "3be58a0b",
   "metadata": {
    "execution": {
     "iopub.execute_input": "2023-11-27T14:09:30.366030Z",
     "iopub.status.busy": "2023-11-27T14:09:30.365136Z",
     "iopub.status.idle": "2023-11-27T14:09:30.770363Z",
     "shell.execute_reply": "2023-11-27T14:09:30.769813Z"
    }
   },
   "outputs": [
    {
     "data": {
      "text/html": [
       "<div style=\"width:100%;\"><div style=\"position:relative;width:100%;height:0;padding-bottom:60%;\"><span style=\"color:#565656\">Make this Notebook Trusted to load map: File -> Trust Notebook</span><iframe srcdoc=\"&lt;!DOCTYPE html&gt;\n",
       "&lt;html&gt;\n",
       "&lt;head&gt;\n",
       "    \n",
       "    &lt;meta http-equiv=&quot;content-type&quot; content=&quot;text/html; charset=UTF-8&quot; /&gt;\n",
       "    \n",
       "        &lt;script&gt;\n",
       "            L_NO_TOUCH = false;\n",
       "            L_DISABLE_3D = false;\n",
       "        &lt;/script&gt;\n",
       "    \n",
       "    &lt;style&gt;html, body {width: 100%;height: 100%;margin: 0;padding: 0;}&lt;/style&gt;\n",
       "    &lt;style&gt;#map {position:absolute;top:0;bottom:0;right:0;left:0;}&lt;/style&gt;\n",
       "    &lt;script src=&quot;https://cdn.jsdelivr.net/npm/leaflet@1.9.3/dist/leaflet.js&quot;&gt;&lt;/script&gt;\n",
       "    &lt;script src=&quot;https://code.jquery.com/jquery-3.7.1.min.js&quot;&gt;&lt;/script&gt;\n",
       "    &lt;script src=&quot;https://cdn.jsdelivr.net/npm/bootstrap@5.2.2/dist/js/bootstrap.bundle.min.js&quot;&gt;&lt;/script&gt;\n",
       "    &lt;script src=&quot;https://cdnjs.cloudflare.com/ajax/libs/Leaflet.awesome-markers/2.0.2/leaflet.awesome-markers.js&quot;&gt;&lt;/script&gt;\n",
       "    &lt;link rel=&quot;stylesheet&quot; href=&quot;https://cdn.jsdelivr.net/npm/leaflet@1.9.3/dist/leaflet.css&quot;/&gt;\n",
       "    &lt;link rel=&quot;stylesheet&quot; href=&quot;https://cdn.jsdelivr.net/npm/bootstrap@5.2.2/dist/css/bootstrap.min.css&quot;/&gt;\n",
       "    &lt;link rel=&quot;stylesheet&quot; href=&quot;https://netdna.bootstrapcdn.com/bootstrap/3.0.0/css/bootstrap.min.css&quot;/&gt;\n",
       "    &lt;link rel=&quot;stylesheet&quot; href=&quot;https://cdn.jsdelivr.net/npm/@fortawesome/fontawesome-free@6.2.0/css/all.min.css&quot;/&gt;\n",
       "    &lt;link rel=&quot;stylesheet&quot; href=&quot;https://cdnjs.cloudflare.com/ajax/libs/Leaflet.awesome-markers/2.0.2/leaflet.awesome-markers.css&quot;/&gt;\n",
       "    &lt;link rel=&quot;stylesheet&quot; href=&quot;https://cdn.jsdelivr.net/gh/python-visualization/folium/folium/templates/leaflet.awesome.rotate.min.css&quot;/&gt;\n",
       "    \n",
       "            &lt;meta name=&quot;viewport&quot; content=&quot;width=device-width,\n",
       "                initial-scale=1.0, maximum-scale=1.0, user-scalable=no&quot; /&gt;\n",
       "            &lt;style&gt;\n",
       "                #map_f2ef62c61b6d47c3cfbca19de4b54b33 {\n",
       "                    position: relative;\n",
       "                    width: 100.0%;\n",
       "                    height: 100.0%;\n",
       "                    left: 0.0%;\n",
       "                    top: 0.0%;\n",
       "                }\n",
       "                .leaflet-container { font-size: 1rem; }\n",
       "            &lt;/style&gt;\n",
       "        \n",
       "    &lt;script src=&quot;https://cdn.jsdelivr.net/gh/python-visualization/folium@main/folium/templates/leaflet_heat.min.js&quot;&gt;&lt;/script&gt;\n",
       "&lt;/head&gt;\n",
       "&lt;body&gt;\n",
       "    \n",
       "    \n",
       "            &lt;div class=&quot;folium-map&quot; id=&quot;map_f2ef62c61b6d47c3cfbca19de4b54b33&quot; &gt;&lt;/div&gt;\n",
       "        \n",
       "&lt;/body&gt;\n",
       "&lt;script&gt;\n",
       "    \n",
       "    \n",
       "            var map_f2ef62c61b6d47c3cfbca19de4b54b33 = L.map(\n",
       "                &quot;map_f2ef62c61b6d47c3cfbca19de4b54b33&quot;,\n",
       "                {\n",
       "                    center: [48.0, 5.0],\n",
       "                    crs: L.CRS.EPSG3857,\n",
       "                    zoom: 6,\n",
       "                    zoomControl: true,\n",
       "                    preferCanvas: false,\n",
       "                }\n",
       "            );\n",
       "\n",
       "            \n",
       "\n",
       "        \n",
       "    \n",
       "            var tile_layer_d93ba017cebfade1e1760d027ab22f4a = L.tileLayer(\n",
       "                &quot;https://tile.openstreetmap.org/{z}/{x}/{y}.png&quot;,\n",
       "                {&quot;attribution&quot;: &quot;\\u0026copy; \\u003ca href=\\&quot;https://www.openstreetmap.org/copyright\\&quot;\\u003eOpenStreetMap\\u003c/a\\u003e contributors&quot;, &quot;detectRetina&quot;: false, &quot;maxNativeZoom&quot;: 19, &quot;maxZoom&quot;: 19, &quot;minZoom&quot;: 0, &quot;noWrap&quot;: false, &quot;opacity&quot;: 1, &quot;subdomains&quot;: &quot;abc&quot;, &quot;tms&quot;: false}\n",
       "            );\n",
       "        \n",
       "    \n",
       "            tile_layer_d93ba017cebfade1e1760d027ab22f4a.addTo(map_f2ef62c61b6d47c3cfbca19de4b54b33);\n",
       "        \n",
       "    \n",
       "            var heat_map_e2f1b6f1f316a3ab24c335750eea8414 = L.heatLayer(\n",
       "                [[48.02584033912404, 4.671646527548628, 1.0733313480755535], [48.325727297917005, 5.274339951239196, 0.7631643611310486], [47.66006491262389, 4.262910193563633, 0.5720502877891696], [48.17309920672744, 6.299233335160099, 1.1749770905837291], [47.776278382879894, 5.223900411597771, 0.9415933627400239], [47.68851027209792, 6.188814664724584, 3.994566991441049], [47.081543860963194, 6.148409519885723, 2.989933261595633], [48.18687800200176, 5.425612412162356, -0.563114819107458], [47.8392613676501, 5.914295119433039, 1.8888825954725428], [47.76758145298138, 6.337571192659165, 2.818859985743937], [49.63372656424171, 4.549663284590681, -0.8067095259259192], [46.986569659408225, 5.681158910138147, -0.01756333971918922], [48.027155099356875, 4.394166467974495, 2.8565784106363727], [47.1437405692498, 4.145102647270363, 1.0693358234949126], [48.33306716178227, 3.707081419410419, 3.604200064748255], [46.72389799522989, 3.6539770778494276, 1.5786948658089175], [47.22066203250507, 5.081848217706062, 2.3660336848446946], [47.3795533507746, 4.290608476801564, 0.8887927513271604], [47.56372568563855, 4.252819577515454, 1.9600956320600351], [49.78395404796423, 6.047125954809349, 0.07983542076399164], [47.13040367429883, 4.5432234134154035, -0.14317227106419006], [48.96365281757547, 5.79649058302432, 0.9013405483928411], [46.80274027578395, 3.9333817102409876, 1.3203712728506845], [47.29241309881265, 2.7750076946790587, 2.0324568837644885], [47.722969603603026, 6.4772324012403555, 1.8712620279644412], [48.369266633590996, 4.8512715727869455, 0.9058645706046584], [48.973206197839836, 4.4674489763545795, 1.3619402693576266], [48.29076560912062, 3.8388853752085477, 3.471387899448535], [46.98387369468827, 5.570620772312039, 0.5029002427047173], [47.7781094653639, 3.5569474708352895, 1.9192006424674795], [48.345329840683355, 6.517818710952803, 2.082134809117165], [49.37568615058394, 3.9720591769563596, 0.34987607908555596], [48.081628612266826, 4.236501099582847, 0.8527020949993885], [49.0139042277041, 4.9860247233412744, -0.011545186265147445], [47.404845628768044, 6.8679338935661125, 1.945625353457915], [49.16595533732438, 5.465408497138604, 2.2998957799225543], [48.20259632324949, 4.854469689822661, -0.020235909149754594], [46.929854908599474, 6.109207709939819, 3.4054363052064347], [47.68943646969804, 3.296073700345598, 0.26276817736651537], [47.31724930736058, 3.8365039062480806, 0.5184756029861393], [48.180519127025654, 3.749011794099112, 1.508914963598095], [48.611770602911946, 6.470448795546544, 0.6129430325928567], [48.9646730891277, 4.842031938871354, 2.1731483736855357], [48.05566552873855, 6.161919859683046, 1.7979685764683504], [48.26387372436829, 5.586958902523053, 0.269925857011287], [46.68442413114521, 3.5308584750312537, 0.4065958276790732], [47.17908251405846, 4.679095767979428, 2.107840844821033], [46.23235454467801, 4.850078683433295, -0.07254459255169032], [46.77997192074271, 6.72741524914686, -0.434474799325695], [47.70089273077531, 5.306159926664932, -0.03207641613683054], [46.72655376326036, 5.265014953883704, 2.0489342078436192], [47.73378354020912, 5.447968715061814, -0.5354147026253377], [47.86802218330247, 4.735561259607698, 1.5404603706040518], [47.9127458323422, 5.235068618402511, 2.5218398388800343], [48.23183557485564, 5.859327192577034, 0.82064164235452], [46.9892037191207, 5.110738847835566, 0.58546712804141], [47.77756316723273, 5.334351367111838, -0.7594230077802002], [47.584513861105464, 3.6702208442753017, -0.0635839809746317], [49.101319975263856, 3.721112788460604, 1.5268475403725694], [47.46467195150231, 5.013517407484817, 0.6550035205313163], [47.46885620219769, 5.819712689779391, 2.0322672086917324], [46.326082995308354, 4.2898905333326995, -0.7130258928807749], [49.453206956785955, 5.756642036771372, 0.8308042917073779], [47.63439509397134, 4.920423910380564, 2.8438873337653234], [48.18970513390407, 5.077363939987464, -0.4442634959973455], [46.08555256941348, 6.182521572567964, -0.8182866695932833], [48.49318873221549, 6.278715356872762, 1.9736835903345695], [47.22202923012058, 3.0238126672281327, 2.017226520515175], [48.855888919455985, 5.28535817234991, 1.6773390633334966], [48.53585257827498, 4.047518884211506, 1.0319194541702243], [47.23382555348102, 7.180150827223265, 0.9337723019453245], [49.74687417222824, 4.776881557531182, -0.49718749227756653], [49.14189947899665, 5.715316513151033, 0.4092053739782171], [48.87230335160115, 5.005843414114987, 0.638530080815541], [48.849463662210134, 4.775441985155604, 1.0176884882266122], [47.92199431806464, 5.455437285190466, 0.7834626688068461], [46.958141159762555, 5.3196124329711765, 2.6402718879024505], [48.01034837845099, 5.132028466511535, 0.8859179283400338], [47.62643690286476, 6.44745303842451, 1.8014714384097021], [48.22217493218581, 4.233899559918388, 1.8495301675138798], [47.10252646001356, 6.758852258549033, 2.7760572151494136], [47.1043318257264, 4.7077721570715365, -0.17070237258948717], [49.22549576990004, 4.128310757052134, 0.9110963092198969], [48.7232163543393, 4.732649869262528, 0.6461874985765458], [48.75758142554757, 5.877018212054414, 1.4975770916826678], [45.84564112301459, 4.200928929744701, -0.4099843339683933], [47.74763709212878, 6.017217722040053, 3.2996452405133523], [48.89392503306442, 4.250350927243177, 0.8013510193889735], [46.94808914075455, 6.308210781465143, 2.217692741040927], [48.16359289229189, 4.0247814667491335, 0.8239530341407175], [47.528575434362196, 4.925769743551641, -0.1241406465592787], [47.40611946385246, 2.987665791745379, 0.6841753996022235], [48.16308090876555, 4.746912932109651, 0.9367684669634476], [46.42611131667716, 3.9570941393817285, 0.017019712107183005], [48.02025769291554, 5.793637527159199, 2.019767205182304], [47.9897287175498, 5.805544068893497, 0.23753077525437816], [49.71399703677337, 5.849012686411481, 0.7298946615653253], [47.309039261041654, 4.32074207486719, 0.6257918573631269], [48.96227736057651, 4.30344338584582, 2.100571460823604], [47.253564582377074, 5.961626304684863, 0.04406712360174325]],\n",
       "                {&quot;blur&quot;: 15, &quot;maxZoom&quot;: 18, &quot;minOpacity&quot;: 0.5, &quot;radius&quot;: 25}\n",
       "            );\n",
       "        \n",
       "    \n",
       "            heat_map_e2f1b6f1f316a3ab24c335750eea8414.addTo(map_f2ef62c61b6d47c3cfbca19de4b54b33);\n",
       "        \n",
       "&lt;/script&gt;\n",
       "&lt;/html&gt;\" style=\"position:absolute;width:100%;height:100%;left:0;top:0;border:none !important;\" allowfullscreen webkitallowfullscreen mozallowfullscreen></iframe></div></div>"
      ],
      "text/plain": [
       "<folium.folium.Map at 0x7f01fc4d2360>"
      ]
     },
     "execution_count": 2,
     "metadata": {},
     "output_type": "execute_result"
    }
   ],
   "source": [
    "import folium\n",
    "from folium.plugins import HeatMap\n",
    "\n",
    "m = folium.Map([48.0, 5.0], zoom_start=6)\n",
    "\n",
    "HeatMap(data).add_to(m)\n",
    "\n",
    "m"
   ]
  }
 ],
 "metadata": {
  "jupytext": {
   "text_representation": {
    "extension": ".mystnb",
    "format_name": "myst"
   }
  },
  "language_info": {
   "codemirror_mode": {
    "name": "ipython",
    "version": 3
   },
   "file_extension": ".py",
   "mimetype": "text/x-python",
   "name": "python",
   "nbconvert_exporter": "python",
   "pygments_lexer": "ipython3",
   "version": "3.12.0"
  }
 },
 "nbformat": 4,
 "nbformat_minor": 5
}
