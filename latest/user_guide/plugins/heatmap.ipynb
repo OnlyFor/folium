{
 "cells": [
  {
   "cell_type": "markdown",
   "id": "0fa0e250",
   "metadata": {},
   "source": [
    "## Heatmap"
   ]
  },
  {
   "cell_type": "code",
   "execution_count": 1,
   "id": "879b3c15",
   "metadata": {
    "execution": {
     "iopub.execute_input": "2023-11-06T17:15:15.482527Z",
     "iopub.status.busy": "2023-11-06T17:15:15.482367Z",
     "iopub.status.idle": "2023-11-06T17:15:15.546753Z",
     "shell.execute_reply": "2023-11-06T17:15:15.546275Z"
    }
   },
   "outputs": [],
   "source": [
    "import numpy as np\n",
    "\n",
    "data = (\n",
    "    np.random.normal(size=(100, 3)) * np.array([[1, 1, 1]]) + np.array([[48, 5, 1]])\n",
    ").tolist()"
   ]
  },
  {
   "cell_type": "code",
   "execution_count": 2,
   "id": "120f82e0",
   "metadata": {
    "execution": {
     "iopub.execute_input": "2023-11-06T17:15:15.550344Z",
     "iopub.status.busy": "2023-11-06T17:15:15.549450Z",
     "iopub.status.idle": "2023-11-06T17:15:15.945786Z",
     "shell.execute_reply": "2023-11-06T17:15:15.945398Z"
    }
   },
   "outputs": [
    {
     "data": {
      "text/html": [
       "<div style=\"width:100%;\"><div style=\"position:relative;width:100%;height:0;padding-bottom:60%;\"><span style=\"color:#565656\">Make this Notebook Trusted to load map: File -> Trust Notebook</span><iframe srcdoc=\"&lt;!DOCTYPE html&gt;\n",
       "&lt;html&gt;\n",
       "&lt;head&gt;\n",
       "    \n",
       "    &lt;meta http-equiv=&quot;content-type&quot; content=&quot;text/html; charset=UTF-8&quot; /&gt;\n",
       "    \n",
       "        &lt;script&gt;\n",
       "            L_NO_TOUCH = false;\n",
       "            L_DISABLE_3D = false;\n",
       "        &lt;/script&gt;\n",
       "    \n",
       "    &lt;style&gt;html, body {width: 100%;height: 100%;margin: 0;padding: 0;}&lt;/style&gt;\n",
       "    &lt;style&gt;#map {position:absolute;top:0;bottom:0;right:0;left:0;}&lt;/style&gt;\n",
       "    &lt;script src=&quot;https://cdn.jsdelivr.net/npm/leaflet@1.9.3/dist/leaflet.js&quot;&gt;&lt;/script&gt;\n",
       "    &lt;script src=&quot;https://code.jquery.com/jquery-3.7.1.min.js&quot;&gt;&lt;/script&gt;\n",
       "    &lt;script src=&quot;https://cdn.jsdelivr.net/npm/bootstrap@5.2.2/dist/js/bootstrap.bundle.min.js&quot;&gt;&lt;/script&gt;\n",
       "    &lt;script src=&quot;https://cdnjs.cloudflare.com/ajax/libs/Leaflet.awesome-markers/2.0.2/leaflet.awesome-markers.js&quot;&gt;&lt;/script&gt;\n",
       "    &lt;link rel=&quot;stylesheet&quot; href=&quot;https://cdn.jsdelivr.net/npm/leaflet@1.9.3/dist/leaflet.css&quot;/&gt;\n",
       "    &lt;link rel=&quot;stylesheet&quot; href=&quot;https://cdn.jsdelivr.net/npm/bootstrap@5.2.2/dist/css/bootstrap.min.css&quot;/&gt;\n",
       "    &lt;link rel=&quot;stylesheet&quot; href=&quot;https://netdna.bootstrapcdn.com/bootstrap/3.0.0/css/bootstrap.min.css&quot;/&gt;\n",
       "    &lt;link rel=&quot;stylesheet&quot; href=&quot;https://cdn.jsdelivr.net/npm/@fortawesome/fontawesome-free@6.2.0/css/all.min.css&quot;/&gt;\n",
       "    &lt;link rel=&quot;stylesheet&quot; href=&quot;https://cdnjs.cloudflare.com/ajax/libs/Leaflet.awesome-markers/2.0.2/leaflet.awesome-markers.css&quot;/&gt;\n",
       "    &lt;link rel=&quot;stylesheet&quot; href=&quot;https://cdn.jsdelivr.net/gh/python-visualization/folium/folium/templates/leaflet.awesome.rotate.min.css&quot;/&gt;\n",
       "    \n",
       "            &lt;meta name=&quot;viewport&quot; content=&quot;width=device-width,\n",
       "                initial-scale=1.0, maximum-scale=1.0, user-scalable=no&quot; /&gt;\n",
       "            &lt;style&gt;\n",
       "                #map_95a9b5b32e57bd5e53163baf181d7d66 {\n",
       "                    position: relative;\n",
       "                    width: 100.0%;\n",
       "                    height: 100.0%;\n",
       "                    left: 0.0%;\n",
       "                    top: 0.0%;\n",
       "                }\n",
       "                .leaflet-container { font-size: 1rem; }\n",
       "            &lt;/style&gt;\n",
       "        \n",
       "    &lt;script src=&quot;https://cdn.jsdelivr.net/gh/python-visualization/folium@main/folium/templates/leaflet_heat.min.js&quot;&gt;&lt;/script&gt;\n",
       "&lt;/head&gt;\n",
       "&lt;body&gt;\n",
       "    \n",
       "    \n",
       "            &lt;div class=&quot;folium-map&quot; id=&quot;map_95a9b5b32e57bd5e53163baf181d7d66&quot; &gt;&lt;/div&gt;\n",
       "        \n",
       "&lt;/body&gt;\n",
       "&lt;script&gt;\n",
       "    \n",
       "    \n",
       "            var map_95a9b5b32e57bd5e53163baf181d7d66 = L.map(\n",
       "                &quot;map_95a9b5b32e57bd5e53163baf181d7d66&quot;,\n",
       "                {\n",
       "                    center: [48.0, 5.0],\n",
       "                    crs: L.CRS.EPSG3857,\n",
       "                    zoom: 6,\n",
       "                    zoomControl: true,\n",
       "                    preferCanvas: false,\n",
       "                }\n",
       "            );\n",
       "\n",
       "            \n",
       "\n",
       "        \n",
       "    \n",
       "            var tile_layer_ebb136eadf2b0ba40228ac8cedd35775 = L.tileLayer(\n",
       "                &quot;https://{s}.tile.openstreetmap.org/{z}/{x}/{y}.png&quot;,\n",
       "                {&quot;attribution&quot;: &quot;Data by \\u0026copy; \\u003ca target=\\&quot;_blank\\&quot; href=\\&quot;http://openstreetmap.org\\&quot;\\u003eOpenStreetMap\\u003c/a\\u003e, under \\u003ca target=\\&quot;_blank\\&quot; href=\\&quot;http://www.openstreetmap.org/copyright\\&quot;\\u003eODbL\\u003c/a\\u003e.&quot;, &quot;detectRetina&quot;: false, &quot;maxNativeZoom&quot;: 18, &quot;maxZoom&quot;: 18, &quot;minZoom&quot;: 0, &quot;noWrap&quot;: false, &quot;opacity&quot;: 1, &quot;subdomains&quot;: &quot;abc&quot;, &quot;tms&quot;: false}\n",
       "            );\n",
       "        \n",
       "    \n",
       "                tile_layer_ebb136eadf2b0ba40228ac8cedd35775.addTo(map_95a9b5b32e57bd5e53163baf181d7d66);\n",
       "    \n",
       "            var heat_map_41fcd9b4adf3bae2b31b40eb5b3d5521 = L.heatLayer(\n",
       "                [[48.56532886852864, 3.848263756091356, -0.3876742410277383], [48.64297261145774, 3.907565114871616, 1.0993348166523853], [47.84359914108679, 4.851011864580189, 1.7641803061958359], [48.68265642857853, 5.00690941558355, -0.6818380034730764], [48.3477644855586, 4.284680619827922, 1.5210279619292528], [48.94527953431064, 5.018717403742955, 1.2089184891104607], [48.19321924209526, 7.267439390980501, 1.357694406347628], [48.53045064735808, 5.806220675732705, 0.5490674460657918], [46.426409145263015, 3.1652804088508693, 1.7252284326212586], [47.519626376930375, 4.202173455805784, 0.7490560156897882], [47.68499918990734, 5.0593940681804925, -0.38901287219350356], [45.832190191012735, 4.41088439154201, 0.9533206938692814], [47.60909672941983, 4.1332582517811565, 0.296035027737267], [49.07932478579782, 5.564143551441145, 1.6499778619375458], [47.38976869030022, 5.922733863714801, -0.024737745414429968], [48.656118811262054, 4.681533460221896, 0.9221242319102376], [48.69477662205968, 5.619828567703141, 2.453242956326377], [46.920483771429915, 3.215523764408637, 1.8922068019758171], [48.63127826805536, 5.232994451739677, 1.3812969803749096], [49.85775593971415, 7.696448003928738, 0.4798649849247737], [50.00422849606413, 5.689715899441814, 0.027261497751810082], [47.23602469184832, 3.4322908087712785, 0.46312376332739524], [48.21304589600919, 4.814573079760779, 2.735756181116805], [49.541456358323735, 4.109170092636975, -0.15424580135578458], [48.3049861046424, 4.95994138868121, 0.5765635856908062], [47.515307553530235, 3.975233588183875, 1.4560215818340365], [49.682182823404524, 5.914306778284242, 2.2742876597559154], [48.793999801069646, 7.593602004469728, -0.1657301569830938], [47.34524998247436, 6.842343066823592, 1.8160977753714491], [48.04520704607079, 4.362706735003221, 3.3909011579659096], [47.64858376825202, 3.1596457513808938, 1.4448763530877808], [46.677545266679004, 5.125846774111142, 0.8705443791432272], [47.369408681081296, 4.041279291640437, 1.0489846807207863], [47.53565909853694, 5.515641384816122, 0.8215036587612354], [47.139032569742895, 5.801364250135131, -0.2316153116285442], [46.53199315745939, 3.78876149007068, 1.4804871661309864], [46.071879593528564, 7.3838178723872705, 1.9738107295573082], [47.83318268972897, 3.341420532423351, 0.31093609168460357], [49.16032208031, 5.273315163678467, 1.0145152368064256], [47.43250079809136, 3.444584253538895, 0.6102438142369423], [47.99686893632034, 5.487750950046679, 1.2711106371922711], [47.98813956470594, 5.584520460623253, 2.1763251754134596], [48.231274738906016, 9.370120937848817, 1.1299984650885238], [49.5895114440833, 5.3848805540992615, -0.31429955875099824], [49.52938709912134, 4.878264359023157, 0.17893121582144755], [46.766960603761746, 5.7566655255465955, 1.3143081219867532], [46.8562005027145, 4.943170173193623, -0.6399949899768376], [48.41336488425968, 4.914264359698898, 1.091264567874414], [48.985496364465334, 4.6630025322201565, 0.595820481047634], [47.44323304463435, 5.553027856651667, 0.09852820490903469], [50.00280363642265, 5.212916825734501, 1.7451210795752417], [47.18998421115353, 3.989541137012322, 0.990377755339828], [49.444403105069426, 5.356525757727671, 0.6907792263383207], [48.44481632011223, 5.621320085233515, 2.8764337665056066], [50.02180584077198, 3.797361495135509, 1.9487012069612692], [47.984374656424635, 4.829002329171368, 1.9517314857967634], [48.86165367211511, 5.037390422557861, 2.016012413664814], [47.440414908844936, 4.576273254872097, 0.16384884832089464], [48.30898786626985, 3.319507067305593, 1.317200571166701], [49.04513727149798, 5.3501046978653815, 0.7270355927028496], [47.46586026893944, 4.65474649638666, 2.663204194175787], [48.54593947465454, 5.347071540706115, 0.6173913428295654], [50.060328758811714, 5.541389535720928, 0.5968478965459694], [47.919384891952525, 5.113484494165721, 0.48948339427810494], [47.35162585423971, 5.167195075157425, 1.6211214100642006], [49.14138653813057, 4.920597195287283, 0.19952907783201146], [47.58385488732232, 4.741277441981217, -0.23818732417727717], [48.551246869804444, 5.744582529702562, 1.8870725114802742], [47.91723946081449, 5.18885614790916, 1.2788383477816092], [48.45809934269895, 4.451346227342702, -0.8522873209004755], [50.76130390629349, 5.629548322965268, 1.1998817340740215], [47.741528011883, 7.063891735161221, 0.16997162641289887], [48.22140867891032, 3.9720943320239797, -1.3016560703692193], [49.618672078878184, 5.5580079468837305, 0.22360254361095333], [47.24500443954351, 6.736583753174769, 1.1595303738872835], [48.07581033503105, 4.582211397763829, 1.6135784835041318], [47.66861498418699, 6.631833127230208, 0.5735068105276965], [46.40231768739166, 5.120453254330009, 1.7316373016296467], [47.94656950494348, 5.47720859020026, 2.5262884113971005], [47.576477220403234, 2.9066785538878404, 3.5008778920646644], [48.06179972243341, 5.731101941825546, -0.4755015530680682], [47.25930199480399, 5.9489867165081, 0.7323534491667999], [45.95291562117901, 5.270895711194206, -0.9386567695007901], [45.66166680767365, 4.093499548084804, 1.8212474432234687], [47.706189044801526, 4.339816138101838, 0.9958025676610713], [48.40065728909089, 3.4649401273644544, 1.5248179654360854], [48.24314266914977, 7.005846825835221, 2.2702332544293973], [46.32766892258791, 3.6583418896368296, 2.449306457639957], [45.37281687535993, 4.859762750148739, -0.04910993382067175], [48.7223626833176, 4.5472432009535515, 1.1411595694313608], [49.833262976037375, 4.431003229011335, 0.9288270728707491], [47.99971701613396, 4.898573953457474, -0.6622791191738668], [46.827548378775674, 5.804938521802484, 1.6451312925308499], [48.129537387978694, 4.393630499055924, 2.5757783670163263], [46.996152689709305, 4.928623555874336, 0.797367662737299], [48.67084046369966, 5.32611920364013, 0.3161812219618919], [47.27020875116904, 5.130256952523404, 0.8884212062859669], [48.09959435418892, 4.968070555736959, 0.8234328872063299], [47.778113281761286, 4.6102559300022286, -0.006021665307074153], [48.354704803018315, 3.89230806214783, 0.7327648592869309]],\n",
       "                {&quot;blur&quot;: 15, &quot;maxZoom&quot;: 18, &quot;minOpacity&quot;: 0.5, &quot;radius&quot;: 25}\n",
       "            );\n",
       "        \n",
       "    \n",
       "                heat_map_41fcd9b4adf3bae2b31b40eb5b3d5521.addTo(map_95a9b5b32e57bd5e53163baf181d7d66);\n",
       "&lt;/script&gt;\n",
       "&lt;/html&gt;\" style=\"position:absolute;width:100%;height:100%;left:0;top:0;border:none !important;\" allowfullscreen webkitallowfullscreen mozallowfullscreen></iframe></div></div>"
      ],
      "text/plain": [
       "<folium.folium.Map at 0x7f9aa40d8da0>"
      ]
     },
     "execution_count": 2,
     "metadata": {},
     "output_type": "execute_result"
    }
   ],
   "source": [
    "import folium\n",
    "from folium.plugins import HeatMap\n",
    "\n",
    "m = folium.Map([48.0, 5.0], zoom_start=6)\n",
    "\n",
    "HeatMap(data).add_to(m)\n",
    "\n",
    "m"
   ]
  }
 ],
 "metadata": {
  "jupytext": {
   "text_representation": {
    "extension": ".mystnb",
    "format_name": "myst"
   }
  },
  "language_info": {
   "codemirror_mode": {
    "name": "ipython",
    "version": 3
   },
   "file_extension": ".py",
   "mimetype": "text/x-python",
   "name": "python",
   "nbconvert_exporter": "python",
   "pygments_lexer": "ipython3",
   "version": "3.12.0"
  }
 },
 "nbformat": 4,
 "nbformat_minor": 5
}
