{
 "cells": [
  {
   "cell_type": "markdown",
   "id": "e6283228",
   "metadata": {},
   "source": [
    "## Heatmap"
   ]
  },
  {
   "cell_type": "code",
   "execution_count": 1,
   "id": "75ccd4ab",
   "metadata": {
    "execution": {
     "iopub.execute_input": "2023-10-26T13:08:01.317325Z",
     "iopub.status.busy": "2023-10-26T13:08:01.317062Z",
     "iopub.status.idle": "2023-10-26T13:08:01.406180Z",
     "shell.execute_reply": "2023-10-26T13:08:01.405322Z"
    }
   },
   "outputs": [],
   "source": [
    "import numpy as np\n",
    "\n",
    "data = (\n",
    "    np.random.normal(size=(100, 3)) * np.array([[1, 1, 1]]) + np.array([[48, 5, 1]])\n",
    ").tolist()"
   ]
  },
  {
   "cell_type": "code",
   "execution_count": 2,
   "id": "8bb96074",
   "metadata": {
    "execution": {
     "iopub.execute_input": "2023-10-26T13:08:01.411998Z",
     "iopub.status.busy": "2023-10-26T13:08:01.410570Z",
     "iopub.status.idle": "2023-10-26T13:08:02.043723Z",
     "shell.execute_reply": "2023-10-26T13:08:02.042619Z"
    }
   },
   "outputs": [
    {
     "data": {
      "text/html": [
       "<div style=\"width:100%;\"><div style=\"position:relative;width:100%;height:0;padding-bottom:60%;\"><span style=\"color:#565656\">Make this Notebook Trusted to load map: File -> Trust Notebook</span><iframe srcdoc=\"&lt;!DOCTYPE html&gt;\n",
       "&lt;html&gt;\n",
       "&lt;head&gt;\n",
       "    \n",
       "    &lt;meta http-equiv=&quot;content-type&quot; content=&quot;text/html; charset=UTF-8&quot; /&gt;\n",
       "    \n",
       "        &lt;script&gt;\n",
       "            L_NO_TOUCH = false;\n",
       "            L_DISABLE_3D = false;\n",
       "        &lt;/script&gt;\n",
       "    \n",
       "    &lt;style&gt;html, body {width: 100%;height: 100%;margin: 0;padding: 0;}&lt;/style&gt;\n",
       "    &lt;style&gt;#map {position:absolute;top:0;bottom:0;right:0;left:0;}&lt;/style&gt;\n",
       "    &lt;script src=&quot;https://cdn.jsdelivr.net/npm/leaflet@1.9.3/dist/leaflet.js&quot;&gt;&lt;/script&gt;\n",
       "    &lt;script src=&quot;https://code.jquery.com/jquery-1.12.4.min.js&quot;&gt;&lt;/script&gt;\n",
       "    &lt;script src=&quot;https://cdn.jsdelivr.net/npm/bootstrap@5.2.2/dist/js/bootstrap.bundle.min.js&quot;&gt;&lt;/script&gt;\n",
       "    &lt;script src=&quot;https://cdnjs.cloudflare.com/ajax/libs/Leaflet.awesome-markers/2.0.2/leaflet.awesome-markers.js&quot;&gt;&lt;/script&gt;\n",
       "    &lt;link rel=&quot;stylesheet&quot; href=&quot;https://cdn.jsdelivr.net/npm/leaflet@1.9.3/dist/leaflet.css&quot;/&gt;\n",
       "    &lt;link rel=&quot;stylesheet&quot; href=&quot;https://cdn.jsdelivr.net/npm/bootstrap@5.2.2/dist/css/bootstrap.min.css&quot;/&gt;\n",
       "    &lt;link rel=&quot;stylesheet&quot; href=&quot;https://netdna.bootstrapcdn.com/bootstrap/3.0.0/css/bootstrap.min.css&quot;/&gt;\n",
       "    &lt;link rel=&quot;stylesheet&quot; href=&quot;https://cdn.jsdelivr.net/npm/@fortawesome/fontawesome-free@6.2.0/css/all.min.css&quot;/&gt;\n",
       "    &lt;link rel=&quot;stylesheet&quot; href=&quot;https://cdnjs.cloudflare.com/ajax/libs/Leaflet.awesome-markers/2.0.2/leaflet.awesome-markers.css&quot;/&gt;\n",
       "    &lt;link rel=&quot;stylesheet&quot; href=&quot;https://cdn.jsdelivr.net/gh/python-visualization/folium/folium/templates/leaflet.awesome.rotate.min.css&quot;/&gt;\n",
       "    \n",
       "            &lt;meta name=&quot;viewport&quot; content=&quot;width=device-width,\n",
       "                initial-scale=1.0, maximum-scale=1.0, user-scalable=no&quot; /&gt;\n",
       "            &lt;style&gt;\n",
       "                #map_fc2d742504e33d06adc1c3a5fbef307b {\n",
       "                    position: relative;\n",
       "                    width: 100.0%;\n",
       "                    height: 100.0%;\n",
       "                    left: 0.0%;\n",
       "                    top: 0.0%;\n",
       "                }\n",
       "                .leaflet-container { font-size: 1rem; }\n",
       "            &lt;/style&gt;\n",
       "        \n",
       "    &lt;script src=&quot;https://cdn.jsdelivr.net/gh/python-visualization/folium@main/folium/templates/leaflet_heat.min.js&quot;&gt;&lt;/script&gt;\n",
       "&lt;/head&gt;\n",
       "&lt;body&gt;\n",
       "    \n",
       "    \n",
       "            &lt;div class=&quot;folium-map&quot; id=&quot;map_fc2d742504e33d06adc1c3a5fbef307b&quot; &gt;&lt;/div&gt;\n",
       "        \n",
       "&lt;/body&gt;\n",
       "&lt;script&gt;\n",
       "    \n",
       "    \n",
       "            var map_fc2d742504e33d06adc1c3a5fbef307b = L.map(\n",
       "                &quot;map_fc2d742504e33d06adc1c3a5fbef307b&quot;,\n",
       "                {\n",
       "                    center: [48.0, 5.0],\n",
       "                    crs: L.CRS.EPSG3857,\n",
       "                    zoom: 6,\n",
       "                    zoomControl: true,\n",
       "                    preferCanvas: false,\n",
       "                }\n",
       "            );\n",
       "\n",
       "            \n",
       "\n",
       "        \n",
       "    \n",
       "            var tile_layer_fac9c2129c1fc6f6c5fef8008429dc20 = L.tileLayer(\n",
       "                &quot;https://{s}.tile.openstreetmap.org/{z}/{x}/{y}.png&quot;,\n",
       "                {&quot;attribution&quot;: &quot;Data by \\u0026copy; \\u003ca target=\\&quot;_blank\\&quot; href=\\&quot;http://openstreetmap.org\\&quot;\\u003eOpenStreetMap\\u003c/a\\u003e, under \\u003ca target=\\&quot;_blank\\&quot; href=\\&quot;http://www.openstreetmap.org/copyright\\&quot;\\u003eODbL\\u003c/a\\u003e.&quot;, &quot;detectRetina&quot;: false, &quot;maxNativeZoom&quot;: 18, &quot;maxZoom&quot;: 18, &quot;minZoom&quot;: 0, &quot;noWrap&quot;: false, &quot;opacity&quot;: 1, &quot;subdomains&quot;: &quot;abc&quot;, &quot;tms&quot;: false}\n",
       "            );\n",
       "        \n",
       "    \n",
       "                tile_layer_fac9c2129c1fc6f6c5fef8008429dc20.addTo(map_fc2d742504e33d06adc1c3a5fbef307b);\n",
       "    \n",
       "            var heat_map_4795c728d403e57d51a6659c9da2492b = L.heatLayer(\n",
       "                [[48.330410209359144, 4.453821400665686, 1.3047623886163249], [47.95822733098627, 6.425751597176544, 0.9845819600283531], [47.65847857590509, 3.8752298698269936, 1.456627659556962], [48.09262712174174, 3.951023139802423, 0.12549196144956176], [48.93243809385917, 5.970122077321549, 2.023331312219479], [48.37534649109187, 5.25623740418688, 0.3006947381666786], [47.815078306212925, 5.088248376950761, 1.067834874712802], [48.93240607925469, 5.072689747623064, 2.0563553251562325], [48.01590295905293, 5.458817010095518, 2.5811907322864442], [47.62166142971148, 5.5384748718777175, -0.6042993671738004], [48.62517585922319, 3.8807154523374434, -0.33581902143055276], [48.11828573997452, 5.149479383364827, 0.20864226903080774], [47.76328460972555, 5.796535621634073, -0.6783413914747385], [48.98922764769022, 5.2209640386158185, -0.09645983611891773], [48.72325771520416, 5.544033278602864, 1.8656519350822407], [48.738743526450286, 6.8667557898994325, -1.213992961438589], [47.23988879070405, 5.972482567281652, 2.048797605072037], [48.524361368205035, 5.431193236692153, 3.1762330207278446], [48.374948979039424, 6.167021807895019, 1.295795759856275], [46.774601141469915, 3.965270499020514, 1.8697279574440546], [47.116796825922364, 6.164156647968571, 2.132899995566924], [46.43278146566951, 4.2711665363167, 1.0545044776793842], [47.939290606024436, 3.7942200672228683, 1.28805945334441], [48.862295980793746, 5.495684655246973, -1.2326696142430826], [47.15233596762509, 5.127828017669112, 0.011187873332860532], [48.88455685177587, 4.904551663638824, 2.199265542128237], [49.42203804064211, 5.258159581915064, 0.5662361265133717], [47.09775150491026, 5.852092760708913, 2.217179869246797], [47.14900356017041, 5.151230744470575, 1.5383864000907592], [48.717060056657246, 6.106021130815879, -0.3816565438126549], [47.786477654645324, 7.153581173476097, 3.032187087778086], [47.73313772502125, 5.430118156679823, 1.461170388009028], [48.10060382517575, 4.408357406034649, 1.430286761426591], [47.590250756773536, 6.5125522733326395, 0.7860525884909687], [48.01465349809346, 5.43899816692028, 1.7744747187471985], [46.21347390027046, 5.0113188702398155, 1.9189258293396532], [47.321696912126576, 3.3868198050127205, 0.045771019864794926], [48.52180582870075, 4.402317644693338, 1.9785053940003956], [48.26290770828991, 4.552599287919302, 2.0714163870788926], [48.600475311187246, 5.7714299568382215, 1.7322685898121342], [47.09403675077404, 5.6162075605534865, 0.6442563263410053], [46.62474707276334, 5.131625870495576, 0.63430700084387], [49.15058038150183, 6.5332800482813465, 1.8947323032935919], [47.168174972439836, 6.15040448326833, 0.5024751559540079], [47.55585299953697, 4.226270484658248, 1.943459024722118], [47.17299188939507, 4.802883381113981, 1.3861007880670115], [47.235671994104386, 5.03590439879799, 2.2391557514599105], [46.326753870296066, 4.507992997698374, 0.8902875854630835], [46.73957487593357, 4.626465009974383, -0.0783193288327475], [48.89030708263654, 3.193740005054412, 2.2362875516794025], [46.94850084001962, 4.683895002974989, 1.4513579129139789], [48.41400290745431, 1.8483682386426854, -0.4661741814928986], [48.75453091848733, 5.813107338152666, 1.9171507177534977], [46.41281512318407, 4.718612380672357, 0.7414766780613976], [47.71934183249064, 5.9581201773583015, 0.4997497476131968], [49.819180502505134, 6.218685693566389, 0.7984534091778658], [49.02687528908059, 4.42595808574181, -0.2815470805541582], [48.9067355957009, 4.668022105062742, 2.0921202434247856], [47.55679761330461, 5.283144758961839, 0.5121792182479978], [46.88485054211023, 7.906734199653831, 0.6064661454288712], [48.29620508241217, 6.348910494314369, 1.3910410303084033], [46.532980579485354, 6.875925287158651, -0.40728652066752447], [49.26948378526121, 7.08669304391165, 1.33717215776936], [47.97546728616887, 5.241794616841003, 1.7373413811053178], [48.29907663484945, 5.842645502741958, -0.07480455048543799], [50.2742925514333, 5.860689481161761, 1.0754230937292077], [48.794578744422864, 4.338971223018767, 0.3300430695552843], [48.13507164310996, 6.005099284426726, 0.1415647253519059], [46.61329279125483, 3.3874812558124137, 1.9500702566009132], [47.206750912260055, 4.374984498066243, 1.3534965108263743], [47.04515095613001, 5.244235527355793, 1.003473214267824], [48.53451016597114, 5.662945756431046, -0.02130010426482931], [46.61814266217503, 4.510954862786869, -0.5068012583650736], [47.538880923885266, 4.724528772695794, -1.1523024806579412], [49.28621726775543, 3.866329282201921, -0.4794545422816443], [47.83799201919525, 4.754633752718268, 2.143335821110095], [47.619620474777044, 6.0560244320638645, -0.8392171844355945], [48.96957749949445, 4.252351127079432, 1.4234528059736795], [48.04661655028669, 3.6552188654356623, 0.85959807835539], [48.20011034467725, 4.0384147138785265, 1.599615116302702], [48.02736505033857, 6.016345448166627, 2.1166995815364844], [48.26601405139117, 5.024105247802808, -1.205758737126616], [49.829274937134514, 6.410648038066366, 1.5671812502923492], [47.69651853230657, 3.4076660655095505, 0.927264004964441], [49.199800728412235, 4.6795091899710535, 0.6428973963445428], [47.85354379552556, 5.779599667433864, 1.2221414707253266], [48.44036164950942, 5.400162109259218, 0.8342701311153027], [47.01036283573468, 5.698731668227128, 1.3304095866365424], [48.605598184121035, 5.944797030136615, 1.0523660772312884], [48.10148610041284, 5.224859515592045, 1.6300474715686688], [49.490717709297044, 5.195266106807771, 1.7257070781519692], [47.20703094011545, 4.412549099563218, -0.6287856961513048], [47.90122333255896, 4.634068681189577, 2.6182524205293323], [47.866008440810965, 5.848446617170946, 0.7172139685706571], [47.996687316627465, 5.6305338488118455, 1.3517908255903421], [47.69068020063504, 3.818456307528873, -0.35112831333249606], [47.329206243222195, 4.5105803847641335, 1.5295314244572187], [49.25084178134894, 5.591439516035288, 0.5901107256581511], [47.80767397820942, 2.59927111928313, 0.3271830802677953], [49.77796382274706, 6.576389755620854, -0.1287435861601509]],\n",
       "                {&quot;blur&quot;: 15, &quot;maxZoom&quot;: 18, &quot;minOpacity&quot;: 0.5, &quot;radius&quot;: 25}\n",
       "            );\n",
       "        \n",
       "    \n",
       "                heat_map_4795c728d403e57d51a6659c9da2492b.addTo(map_fc2d742504e33d06adc1c3a5fbef307b);\n",
       "&lt;/script&gt;\n",
       "&lt;/html&gt;\" style=\"position:absolute;width:100%;height:100%;left:0;top:0;border:none !important;\" allowfullscreen webkitallowfullscreen mozallowfullscreen></iframe></div></div>"
      ],
      "text/plain": [
       "<folium.folium.Map at 0x7fb6dc51f8f0>"
      ]
     },
     "execution_count": 2,
     "metadata": {},
     "output_type": "execute_result"
    }
   ],
   "source": [
    "import folium\n",
    "from folium.plugins import HeatMap\n",
    "\n",
    "m = folium.Map([48.0, 5.0], zoom_start=6)\n",
    "\n",
    "HeatMap(data).add_to(m)\n",
    "\n",
    "m"
   ]
  }
 ],
 "metadata": {
  "jupytext": {
   "text_representation": {
    "extension": ".mystnb",
    "format_name": "myst"
   }
  },
  "language_info": {
   "codemirror_mode": {
    "name": "ipython",
    "version": 3
   },
   "file_extension": ".py",
   "mimetype": "text/x-python",
   "name": "python",
   "nbconvert_exporter": "python",
   "pygments_lexer": "ipython3",
   "version": "3.12.0"
  }
 },
 "nbformat": 4,
 "nbformat_minor": 5
}
