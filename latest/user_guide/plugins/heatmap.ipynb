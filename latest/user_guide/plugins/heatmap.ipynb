{
 "cells": [
  {
   "cell_type": "markdown",
   "id": "6f4e2ff7",
   "metadata": {},
   "source": [
    "## Heatmap"
   ]
  },
  {
   "cell_type": "code",
   "execution_count": 1,
   "id": "5bfb10f5",
   "metadata": {
    "execution": {
     "iopub.execute_input": "2023-10-16T12:41:39.744481Z",
     "iopub.status.busy": "2023-10-16T12:41:39.744076Z",
     "iopub.status.idle": "2023-10-16T12:41:39.806471Z",
     "shell.execute_reply": "2023-10-16T12:41:39.805953Z"
    }
   },
   "outputs": [],
   "source": [
    "import numpy as np\n",
    "\n",
    "data = (\n",
    "    np.random.normal(size=(100, 3)) * np.array([[1, 1, 1]]) + np.array([[48, 5, 1]])\n",
    ").tolist()"
   ]
  },
  {
   "cell_type": "code",
   "execution_count": 2,
   "id": "91f22411",
   "metadata": {
    "execution": {
     "iopub.execute_input": "2023-10-16T12:41:39.810567Z",
     "iopub.status.busy": "2023-10-16T12:41:39.809582Z",
     "iopub.status.idle": "2023-10-16T12:41:40.297065Z",
     "shell.execute_reply": "2023-10-16T12:41:40.296493Z"
    }
   },
   "outputs": [
    {
     "data": {
      "text/html": [
       "<div style=\"width:100%;\"><div style=\"position:relative;width:100%;height:0;padding-bottom:60%;\"><span style=\"color:#565656\">Make this Notebook Trusted to load map: File -> Trust Notebook</span><iframe srcdoc=\"&lt;!DOCTYPE html&gt;\n",
       "&lt;html&gt;\n",
       "&lt;head&gt;\n",
       "    \n",
       "    &lt;meta http-equiv=&quot;content-type&quot; content=&quot;text/html; charset=UTF-8&quot; /&gt;\n",
       "    \n",
       "        &lt;script&gt;\n",
       "            L_NO_TOUCH = false;\n",
       "            L_DISABLE_3D = false;\n",
       "        &lt;/script&gt;\n",
       "    \n",
       "    &lt;style&gt;html, body {width: 100%;height: 100%;margin: 0;padding: 0;}&lt;/style&gt;\n",
       "    &lt;style&gt;#map {position:absolute;top:0;bottom:0;right:0;left:0;}&lt;/style&gt;\n",
       "    &lt;script src=&quot;https://cdn.jsdelivr.net/npm/leaflet@1.9.3/dist/leaflet.js&quot;&gt;&lt;/script&gt;\n",
       "    &lt;script src=&quot;https://code.jquery.com/jquery-1.12.4.min.js&quot;&gt;&lt;/script&gt;\n",
       "    &lt;script src=&quot;https://cdn.jsdelivr.net/npm/bootstrap@5.2.2/dist/js/bootstrap.bundle.min.js&quot;&gt;&lt;/script&gt;\n",
       "    &lt;script src=&quot;https://cdnjs.cloudflare.com/ajax/libs/Leaflet.awesome-markers/2.0.2/leaflet.awesome-markers.js&quot;&gt;&lt;/script&gt;\n",
       "    &lt;link rel=&quot;stylesheet&quot; href=&quot;https://cdn.jsdelivr.net/npm/leaflet@1.9.3/dist/leaflet.css&quot;/&gt;\n",
       "    &lt;link rel=&quot;stylesheet&quot; href=&quot;https://cdn.jsdelivr.net/npm/bootstrap@5.2.2/dist/css/bootstrap.min.css&quot;/&gt;\n",
       "    &lt;link rel=&quot;stylesheet&quot; href=&quot;https://netdna.bootstrapcdn.com/bootstrap/3.0.0/css/bootstrap.min.css&quot;/&gt;\n",
       "    &lt;link rel=&quot;stylesheet&quot; href=&quot;https://cdn.jsdelivr.net/npm/@fortawesome/fontawesome-free@6.2.0/css/all.min.css&quot;/&gt;\n",
       "    &lt;link rel=&quot;stylesheet&quot; href=&quot;https://cdnjs.cloudflare.com/ajax/libs/Leaflet.awesome-markers/2.0.2/leaflet.awesome-markers.css&quot;/&gt;\n",
       "    &lt;link rel=&quot;stylesheet&quot; href=&quot;https://cdn.jsdelivr.net/gh/python-visualization/folium/folium/templates/leaflet.awesome.rotate.min.css&quot;/&gt;\n",
       "    \n",
       "            &lt;meta name=&quot;viewport&quot; content=&quot;width=device-width,\n",
       "                initial-scale=1.0, maximum-scale=1.0, user-scalable=no&quot; /&gt;\n",
       "            &lt;style&gt;\n",
       "                #map_03d7d5d75ee9f0067cbde51ae044ca0b {\n",
       "                    position: relative;\n",
       "                    width: 100.0%;\n",
       "                    height: 100.0%;\n",
       "                    left: 0.0%;\n",
       "                    top: 0.0%;\n",
       "                }\n",
       "                .leaflet-container { font-size: 1rem; }\n",
       "            &lt;/style&gt;\n",
       "        \n",
       "    &lt;script src=&quot;https://cdn.jsdelivr.net/gh/python-visualization/folium@main/folium/templates/leaflet_heat.min.js&quot;&gt;&lt;/script&gt;\n",
       "&lt;/head&gt;\n",
       "&lt;body&gt;\n",
       "    \n",
       "    \n",
       "            &lt;div class=&quot;folium-map&quot; id=&quot;map_03d7d5d75ee9f0067cbde51ae044ca0b&quot; &gt;&lt;/div&gt;\n",
       "        \n",
       "&lt;/body&gt;\n",
       "&lt;script&gt;\n",
       "    \n",
       "    \n",
       "            var map_03d7d5d75ee9f0067cbde51ae044ca0b = L.map(\n",
       "                &quot;map_03d7d5d75ee9f0067cbde51ae044ca0b&quot;,\n",
       "                {\n",
       "                    center: [48.0, 5.0],\n",
       "                    crs: L.CRS.EPSG3857,\n",
       "                    zoom: 6,\n",
       "                    zoomControl: true,\n",
       "                    preferCanvas: false,\n",
       "                }\n",
       "            );\n",
       "\n",
       "            \n",
       "\n",
       "        \n",
       "    \n",
       "            var tile_layer_d82a29d6b1457b980c7c0eaff56b37c1 = L.tileLayer(\n",
       "                &quot;https://stamen-tiles-{s}.a.ssl.fastly.net/toner/{z}/{x}/{y}.png&quot;,\n",
       "                {&quot;attribution&quot;: &quot;Map tiles by \\u003ca target=\\&quot;_blank\\&quot; href=\\&quot;http://stamen.com\\&quot;\\u003eStamen Design\\u003c/a\\u003e, under \\u003ca target=\\&quot;_blank\\&quot; href=\\&quot;http://creativecommons.org/licenses/by/3.0\\&quot;\\u003eCC BY 3.0\\u003c/a\\u003e. Data by \\u0026copy; \\u003ca target=\\&quot;_blank\\&quot; href=\\&quot;http://openstreetmap.org\\&quot;\\u003eOpenStreetMap\\u003c/a\\u003e, under \\u003ca target=\\&quot;_blank\\&quot; href=\\&quot;http://www.openstreetmap.org/copyright\\&quot;\\u003eODbL\\u003c/a\\u003e.&quot;, &quot;detectRetina&quot;: false, &quot;maxNativeZoom&quot;: 18, &quot;maxZoom&quot;: 18, &quot;minZoom&quot;: 0, &quot;noWrap&quot;: false, &quot;opacity&quot;: 1, &quot;subdomains&quot;: &quot;abc&quot;, &quot;tms&quot;: false}\n",
       "            );\n",
       "        \n",
       "    \n",
       "                tile_layer_d82a29d6b1457b980c7c0eaff56b37c1.addTo(map_03d7d5d75ee9f0067cbde51ae044ca0b);\n",
       "    \n",
       "            var heat_map_3398c2f54d3f465b43a3240eadc2ccd5 = L.heatLayer(\n",
       "                [[46.760576379437495, 5.439607324892743, 1.3482914653430345], [47.55772522493043, 3.758392335758381, 0.5303943127340114], [48.72136610827916, 3.258571855458128, 1.04921872857909], [48.50082708367647, 4.08192154909682, 0.41256735155054647], [49.99539667231288, 4.000198772529318, 0.7862524790246428], [46.629148248466834, 6.441089397651657, 0.7938171386890647], [48.48830389500766, 4.89668819805233, 1.8385642092426717], [47.32351775743964, 4.087509391183879, 0.937470038247145], [47.61837322797135, 3.3046708858830214, 1.881137760609334], [46.51816425265542, 4.267402355655851, 1.64273551520987], [47.288755474528635, 4.723918040052012, 0.9842679953835649], [47.273742957130715, 4.268707846305103, 0.7288547301214494], [48.03208091888239, 5.0729807331819545, -0.7454743175914542], [47.35025111983181, 2.4792757205753455, 1.622350057317424], [49.53846938404071, 4.411206711639901, -1.551679628687248], [49.483306962138215, 4.768583193690282, -0.5985834259486233], [49.67424996911697, 5.928633819590658, -0.9046822452098284], [48.57112333387701, 5.653815194455818, 2.0939522794844807], [48.90061828573753, 5.931043016407795, 1.6017542621709389], [47.101714990729704, 6.544450142973647, 0.025385686809963892], [46.06395604685371, 6.667216240314047, 2.738697017859985], [47.547331512548155, 5.188747759672095, 1.7059115022139983], [47.56157571641308, 5.5126059436261245, -0.18469989799826259], [47.920729700497645, 4.365824499750287, 1.1779026838452324], [48.40376042326426, 7.679558868986826, 2.280044996626884], [48.37781602881447, 4.771446821930554, 2.5039124019679626], [46.75309089503986, 3.3824738859078285, 1.4398062212215286], [48.20435959219206, 6.824384414864971, 0.9468752060079326], [48.3845644854017, 4.068313782089736, -0.32456852428655103], [49.37414068798973, 6.106632050433568, 1.2786497940629813], [47.03389501802877, 5.572903885161281, 0.8031973898896847], [47.33753017860828, 5.106693832156492, -0.03067693694777529], [47.431516561509945, 4.902826400478431, 0.14410684622058478], [48.456277196884685, 5.420277452456616, 1.9133605720086768], [48.37996614278567, 4.545173148130101, 2.496146012999504], [47.74259332153769, 5.504703820398537, 0.7061720935832636], [46.71711320794919, 4.604438777936687, 0.8577581861674398], [47.142223691485114, 2.7006550111257264, 2.8875441512039357], [47.4079463377596, 6.12619536917868, 0.4816035332411689], [48.78895852071328, 4.859907292696891, 0.2796153814116239], [47.42553878833062, 6.766180530489677, -0.44535402919346057], [47.4476600558357, 4.333570876918342, 0.914179844092979], [47.26874592412924, 3.3136561879963278, 1.2862500327992417], [45.77553718052319, 4.469028635281076, 0.9964811423095759], [46.91340302101263, 5.34904065677123, 0.07457527598408598], [48.51075053970235, 5.028037897238425, -0.13109665387822322], [47.0729411999699, 4.41647359648064, 1.096641240857143], [48.07804769583982, 3.8823193553095185, 1.2172314414327288], [48.60165527512203, 5.260022851015868, 2.541274927680968], [48.385028773276886, 4.169810810208579, -0.3172586853983237], [48.164260904861166, 4.676263693770174, 1.5831832474029437], [48.34282892569054, 4.534890582462633, 2.996211485194747], [48.06292650643475, 5.779609835079742, 1.0212088518568339], [46.747148296545824, 4.274296118586799, 2.958827923175475], [47.633846274378094, 5.3649568067095155, 0.3639199834494824], [48.31620391181614, 4.243118679763225, -0.6084888158116917], [48.931308373448644, 3.442129752249745, -0.7029914068236034], [49.06362612678998, 3.656669471794219, 0.755228816990965], [47.18813658081111, 3.0141331237446867, 2.244216873044106], [48.13159419952621, 5.586073935239709, 1.9777331727210665], [50.067764621313245, 4.164745761921574, 2.5149091843378306], [46.89144616022157, 5.813141163847391, 2.5708694462345214], [47.29481556589228, 5.734977756403864, 1.5795526685158408], [47.52318857323699, 4.768078459487335, 1.6580604244525956], [48.177324932019346, 6.496882245529763, 3.3548360857578485], [48.107852287595215, 7.17243984060387, 1.6651566074438717], [48.432695553571364, 5.82277358654468, 1.8811632401741754], [47.66007650896932, 4.968325595376258, 2.588217666110723], [47.95780304322335, 3.7969285646909663, 1.6077477229254518], [46.35046944001723, 3.9422676954703944, 0.7508634517054267], [47.24937086600321, 3.9962005203745896, 2.335286676054317], [48.94820539189955, 6.136507084631514, 0.9031249172207133], [46.91071955795006, 5.616328979987622, 1.3936995390451856], [48.21663963980473, 3.9892804189563433, 0.48801253343782647], [48.588382215934615, 5.575160256981923, -0.4535721610608281], [47.43181956967895, 5.8917519481639316, 1.6082716618806046], [47.57745285382384, 4.929882980124244, -0.4203895427410038], [47.96946711724175, 4.221617947591618, 1.0910791456749316], [49.72075008188458, 4.366573458107143, 2.0674883124149055], [48.06365161755699, 4.006051629539861, 1.1694200320068726], [47.35221458967943, 5.246767266683856, 1.7978360269287192], [48.66594805773804, 5.411765741688713, 1.9697226153435994], [48.598207425060345, 5.538294768269879, 1.4935311841104282], [46.966848566650185, 5.515752432538634, 2.2983338911511177], [46.73424600045518, 5.039690411336445, 1.2553563532989473], [46.18517102174165, 5.649632825029528, 0.9982774020398547], [49.13175921825993, 4.733906089921988, 1.5307320408771528], [48.57047411694608, 4.2839516079983175, -0.26858199814312833], [47.57836707970815, 6.474316404746357, 1.5401080797832485], [47.28910451736425, 3.3420285074327474, 2.0608483331365774], [49.75948848290229, 4.868680982107973, 1.663581328855192], [47.94345950507967, 6.865795661739482, -0.2942391071148889], [47.02195336150948, 5.690778871162483, 1.1988977479456164], [48.7944032001853, 4.515447348015622, 1.0028609382984743], [48.543796996647714, 3.1520002897883854, 2.2846164694031765], [47.400141407069306, 5.357117342520626, 0.7828584431289998], [48.49549169869025, 4.30985520972642, -0.5293388198108682], [50.07612353065568, 4.496815558095499, 0.9439012854005704], [48.12192185648433, 5.890852386657148, 2.105592286138048], [47.49109665334647, 6.099260558661211, 2.3932390222952504]],\n",
       "                {&quot;blur&quot;: 15, &quot;maxZoom&quot;: 18, &quot;minOpacity&quot;: 0.5, &quot;radius&quot;: 25}\n",
       "            );\n",
       "        \n",
       "    \n",
       "                heat_map_3398c2f54d3f465b43a3240eadc2ccd5.addTo(map_03d7d5d75ee9f0067cbde51ae044ca0b);\n",
       "&lt;/script&gt;\n",
       "&lt;/html&gt;\" style=\"position:absolute;width:100%;height:100%;left:0;top:0;border:none !important;\" allowfullscreen webkitallowfullscreen mozallowfullscreen></iframe></div></div>"
      ],
      "text/plain": [
       "<folium.folium.Map at 0x7fe714145450>"
      ]
     },
     "execution_count": 2,
     "metadata": {},
     "output_type": "execute_result"
    }
   ],
   "source": [
    "import folium\n",
    "from folium.plugins import HeatMap\n",
    "\n",
    "m = folium.Map([48.0, 5.0], tiles=\"stamentoner\", zoom_start=6)\n",
    "\n",
    "HeatMap(data).add_to(m)\n",
    "\n",
    "m"
   ]
  }
 ],
 "metadata": {
  "jupytext": {
   "text_representation": {
    "extension": ".mystnb",
    "format_name": "myst"
   }
  },
  "language_info": {
   "codemirror_mode": {
    "name": "ipython",
    "version": 3
   },
   "file_extension": ".py",
   "mimetype": "text/x-python",
   "name": "python",
   "nbconvert_exporter": "python",
   "pygments_lexer": "ipython3",
   "version": "3.11.6"
  }
 },
 "nbformat": 4,
 "nbformat_minor": 5
}
