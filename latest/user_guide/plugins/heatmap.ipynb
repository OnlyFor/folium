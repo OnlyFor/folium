{
 "cells": [
  {
   "cell_type": "markdown",
   "id": "2031b72f",
   "metadata": {},
   "source": [
    "## Heatmap"
   ]
  },
  {
   "cell_type": "code",
   "execution_count": 1,
   "id": "2bafbbb5",
   "metadata": {
    "execution": {
     "iopub.execute_input": "2023-11-06T17:52:54.512642Z",
     "iopub.status.busy": "2023-11-06T17:52:54.512262Z",
     "iopub.status.idle": "2023-11-06T17:52:54.583451Z",
     "shell.execute_reply": "2023-11-06T17:52:54.582897Z"
    }
   },
   "outputs": [],
   "source": [
    "import numpy as np\n",
    "\n",
    "data = (\n",
    "    np.random.normal(size=(100, 3)) * np.array([[1, 1, 1]]) + np.array([[48, 5, 1]])\n",
    ").tolist()"
   ]
  },
  {
   "cell_type": "code",
   "execution_count": 2,
   "id": "7dbb1870",
   "metadata": {
    "execution": {
     "iopub.execute_input": "2023-11-06T17:52:54.587564Z",
     "iopub.status.busy": "2023-11-06T17:52:54.586501Z",
     "iopub.status.idle": "2023-11-06T17:52:55.129363Z",
     "shell.execute_reply": "2023-11-06T17:52:55.128844Z"
    }
   },
   "outputs": [
    {
     "data": {
      "text/html": [
       "<div style=\"width:100%;\"><div style=\"position:relative;width:100%;height:0;padding-bottom:60%;\"><span style=\"color:#565656\">Make this Notebook Trusted to load map: File -> Trust Notebook</span><iframe srcdoc=\"&lt;!DOCTYPE html&gt;\n",
       "&lt;html&gt;\n",
       "&lt;head&gt;\n",
       "    \n",
       "    &lt;meta http-equiv=&quot;content-type&quot; content=&quot;text/html; charset=UTF-8&quot; /&gt;\n",
       "    \n",
       "        &lt;script&gt;\n",
       "            L_NO_TOUCH = false;\n",
       "            L_DISABLE_3D = false;\n",
       "        &lt;/script&gt;\n",
       "    \n",
       "    &lt;style&gt;html, body {width: 100%;height: 100%;margin: 0;padding: 0;}&lt;/style&gt;\n",
       "    &lt;style&gt;#map {position:absolute;top:0;bottom:0;right:0;left:0;}&lt;/style&gt;\n",
       "    &lt;script src=&quot;https://cdn.jsdelivr.net/npm/leaflet@1.9.3/dist/leaflet.js&quot;&gt;&lt;/script&gt;\n",
       "    &lt;script src=&quot;https://code.jquery.com/jquery-3.7.1.min.js&quot;&gt;&lt;/script&gt;\n",
       "    &lt;script src=&quot;https://cdn.jsdelivr.net/npm/bootstrap@5.2.2/dist/js/bootstrap.bundle.min.js&quot;&gt;&lt;/script&gt;\n",
       "    &lt;script src=&quot;https://cdnjs.cloudflare.com/ajax/libs/Leaflet.awesome-markers/2.0.2/leaflet.awesome-markers.js&quot;&gt;&lt;/script&gt;\n",
       "    &lt;link rel=&quot;stylesheet&quot; href=&quot;https://cdn.jsdelivr.net/npm/leaflet@1.9.3/dist/leaflet.css&quot;/&gt;\n",
       "    &lt;link rel=&quot;stylesheet&quot; href=&quot;https://cdn.jsdelivr.net/npm/bootstrap@5.2.2/dist/css/bootstrap.min.css&quot;/&gt;\n",
       "    &lt;link rel=&quot;stylesheet&quot; href=&quot;https://netdna.bootstrapcdn.com/bootstrap/3.0.0/css/bootstrap.min.css&quot;/&gt;\n",
       "    &lt;link rel=&quot;stylesheet&quot; href=&quot;https://cdn.jsdelivr.net/npm/@fortawesome/fontawesome-free@6.2.0/css/all.min.css&quot;/&gt;\n",
       "    &lt;link rel=&quot;stylesheet&quot; href=&quot;https://cdnjs.cloudflare.com/ajax/libs/Leaflet.awesome-markers/2.0.2/leaflet.awesome-markers.css&quot;/&gt;\n",
       "    &lt;link rel=&quot;stylesheet&quot; href=&quot;https://cdn.jsdelivr.net/gh/python-visualization/folium/folium/templates/leaflet.awesome.rotate.min.css&quot;/&gt;\n",
       "    \n",
       "            &lt;meta name=&quot;viewport&quot; content=&quot;width=device-width,\n",
       "                initial-scale=1.0, maximum-scale=1.0, user-scalable=no&quot; /&gt;\n",
       "            &lt;style&gt;\n",
       "                #map_8c2ea1b791593842be100b9cd5bfdfb9 {\n",
       "                    position: relative;\n",
       "                    width: 100.0%;\n",
       "                    height: 100.0%;\n",
       "                    left: 0.0%;\n",
       "                    top: 0.0%;\n",
       "                }\n",
       "                .leaflet-container { font-size: 1rem; }\n",
       "            &lt;/style&gt;\n",
       "        \n",
       "    &lt;script src=&quot;https://cdn.jsdelivr.net/gh/python-visualization/folium@main/folium/templates/leaflet_heat.min.js&quot;&gt;&lt;/script&gt;\n",
       "&lt;/head&gt;\n",
       "&lt;body&gt;\n",
       "    \n",
       "    \n",
       "            &lt;div class=&quot;folium-map&quot; id=&quot;map_8c2ea1b791593842be100b9cd5bfdfb9&quot; &gt;&lt;/div&gt;\n",
       "        \n",
       "&lt;/body&gt;\n",
       "&lt;script&gt;\n",
       "    \n",
       "    \n",
       "            var map_8c2ea1b791593842be100b9cd5bfdfb9 = L.map(\n",
       "                &quot;map_8c2ea1b791593842be100b9cd5bfdfb9&quot;,\n",
       "                {\n",
       "                    center: [48.0, 5.0],\n",
       "                    crs: L.CRS.EPSG3857,\n",
       "                    zoom: 6,\n",
       "                    zoomControl: true,\n",
       "                    preferCanvas: false,\n",
       "                }\n",
       "            );\n",
       "\n",
       "            \n",
       "\n",
       "        \n",
       "    \n",
       "            var tile_layer_73ba4ba0e6daae23b1d99e3d22d7d989 = L.tileLayer(\n",
       "                &quot;https://{s}.tile.openstreetmap.org/{z}/{x}/{y}.png&quot;,\n",
       "                {&quot;attribution&quot;: &quot;Data by \\u0026copy; \\u003ca target=\\&quot;_blank\\&quot; href=\\&quot;http://openstreetmap.org\\&quot;\\u003eOpenStreetMap\\u003c/a\\u003e, under \\u003ca target=\\&quot;_blank\\&quot; href=\\&quot;http://www.openstreetmap.org/copyright\\&quot;\\u003eODbL\\u003c/a\\u003e.&quot;, &quot;detectRetina&quot;: false, &quot;maxNativeZoom&quot;: 18, &quot;maxZoom&quot;: 18, &quot;minZoom&quot;: 0, &quot;noWrap&quot;: false, &quot;opacity&quot;: 1, &quot;subdomains&quot;: &quot;abc&quot;, &quot;tms&quot;: false}\n",
       "            );\n",
       "        \n",
       "    \n",
       "                tile_layer_73ba4ba0e6daae23b1d99e3d22d7d989.addTo(map_8c2ea1b791593842be100b9cd5bfdfb9);\n",
       "    \n",
       "            var heat_map_192362e767c3fda6dc75daaba71de0f8 = L.heatLayer(\n",
       "                [[46.8691095251925, 3.992212455590273, 0.1471845657800528], [46.90971517645449, 3.321402182704344, -0.5979387618891447], [48.62138709686886, 4.853664411023939, 1.9682449054019169], [48.011633319311855, 6.172508288151328, 1.15944176636156], [48.25885821714353, 6.122062648978943, 2.0897946882539733], [46.50983797060391, 6.166111797300664, -0.1373845053804199], [49.90964739481069, 6.165649207491974, 1.4599365739714825], [48.655856390333966, 5.323665623868453, 1.2405207873930229], [46.49066191780848, 6.135922089651562, 2.00686066198566], [48.421374240600635, 4.344169602630959, -0.40086987427799636], [48.731788081161504, 5.507188730224774, 1.28690606322973], [47.387439013739765, 4.278647150279131, 1.3478999305488244], [48.04600393722588, 5.94439124484819, 2.2252667487136097], [47.619117762191486, 5.965585368493577, -0.0049561202305432595], [47.96268393355741, 5.454987077884072, 1.4002654561950931], [47.30113310708114, 3.964769137625256, 1.0691860729155034], [47.176762241036535, 6.546378529797335, 0.6199339283995227], [48.61552543066542, 5.936148004691896, -0.1387444357718659], [48.59153425612701, 5.593341573646466, 0.23850450494996767], [46.07554969808653, 4.072530783218151, 1.086704586624858], [48.065354987720625, 3.939133962803311, 1.4080188860731002], [48.525824515774524, 3.1617074785815795, 0.5014002008086241], [48.27053372862897, 6.115212063737589, 0.5580907581667128], [48.350201880373504, 3.528593744232277, 0.581887387905847], [49.14039509866817, 4.7117831447562555, 2.487405477902833], [48.35355427901558, 5.699569222390455, 0.22512013674026987], [47.36078501376269, 6.253710880879382, 0.9810124265063134], [49.66135855526819, 3.3595306331673394, 0.4072831386710445], [49.03418416572771, 3.631104983638415, 0.7336083347482525], [48.451495450292036, 4.467621188255105, 1.211874426230735], [48.391618059142246, 6.3127019169121965, 0.4567510976461596], [48.583114661652615, 3.3656448704151702, 1.8108260922104802], [48.15579789958424, 4.79871828200525, 0.10703888471548839], [47.532756566280085, 5.9971264410704075, 1.7574973450934217], [48.702240526007664, 5.2841665329092375, 0.6294840233003042], [46.78704115747488, 3.6119863830720087, 1.0270429644036418], [47.94973704900165, 4.456895309991279, 0.9243755146016742], [45.68264589081152, 4.8703098809208205, 0.3621802254640072], [47.68304902741906, 3.4828283407180347, 0.47717035347362524], [48.78050757869746, 6.713587910201119, 0.4065314204457181], [48.249299051975456, 4.165381123196761, 1.8509427029469925], [48.113387065074924, 4.577376430313887, 1.1704258748136374], [46.70147226710677, 4.5248171726137265, 0.7258103407979772], [48.677441870598585, 2.8721623439527457, 0.6764493325759031], [48.713868488805986, 4.771946609540341, 1.5676068010883917], [48.10373445861329, 6.599041340105432, -0.4318390669210477], [48.128012645469674, 5.05149952361244, 2.804621284345389], [49.71210743730786, 5.8460048758724446, 1.797490793968514], [49.229397983013605, 4.740004204364661, 1.0601960881247228], [47.44385717487999, 4.871745344403519, 0.5781981609951286], [49.13502128980943, 4.026235070191831, 1.2835393327728064], [47.248766948042885, 6.504558822676843, 0.22867418758324376], [47.17449117741163, 3.263936197850577, 1.4671733464988455], [48.06129260663587, 4.680701784709013, 0.9733928954333682], [47.57362752560396, 5.095275753792396, 0.5326506434374105], [47.466269693032054, 3.846977592022831, 0.6870567317759115], [47.922129749328796, 5.443885467984151, 2.615294581524047], [48.760523362350995, 6.290605519495101, 1.8222069117772142], [46.93100361593376, 5.880999390660918, 0.41473805657718155], [48.610102285141906, 5.302293172674301, 0.6147944060943021], [47.838311403632986, 6.145161389973015, 2.6499600297667563], [48.17106320139431, 4.251630435203373, 2.0071389262582002], [47.73306596601575, 5.707570610242132, -0.8984228305188209], [48.10877526301249, 4.9708696709689475, 1.8584342797053104], [48.837780604336956, 4.908772086798019, 1.3607267364804798], [47.69853771586872, 5.301110167230224, 3.215186823128446], [47.77730785225952, 7.612058433647828, 0.5413210738159193], [48.542361859638156, 5.092773833507275, 0.901844927598604], [48.67835623305799, 3.4006670585040326, -1.582158398923648], [48.27426494139373, 2.4780649779432586, 1.1658978191809792], [47.14712737519204, 6.472325833984108, -1.2867386715421754], [46.98738236883448, 4.277094151974721, 0.7767674775829996], [46.891272813575945, 5.074694009799043, 1.0220446639465337], [46.51485160072801, 6.615248770503462, 1.8809425699795193], [48.85371065725988, 5.289859245749775, 2.1358437032923216], [47.13591642751933, 5.996386096399329, 0.2257056471095087], [50.33732724234531, 4.138208951183954, 2.229423721431959], [46.01525954955729, 3.8947190309910242, -0.6052187963913869], [45.96782470762503, 5.698083376753197, -0.1332758927143458], [46.66615785731932, 3.7808627001456037, -0.9255893628354743], [46.92297878692981, 6.1369867404371465, 1.6028245203373535], [47.976778228351186, 5.479126897704703, 0.10471069758659557], [47.6526317922186, 6.715833992246359, 1.380415171288211], [48.90815738560765, 6.790194786182404, 2.4981815123214384], [49.15441332059238, 5.81674435149753, -0.17224934256773428], [47.387413723584096, 4.691191240072586, -0.9860708708023365], [49.17229220202616, 4.361948542199129, 0.302559662763783], [48.55146198233012, 4.287461670607778, 1.8256769919124447], [47.717446009073534, 5.117542097637523, -1.467222150819996], [47.1675319337796, 6.53949104001195, 1.551366403565996], [47.08279416845894, 2.1464117594828807, 1.9281226606005006], [47.69153235163049, 5.593303991539506, 0.40155087620210217], [48.25436850434263, 5.212928704962458, 2.172055372107714], [48.14931188357889, 7.878525648130632, 0.36994889476973647], [48.57979368926836, 5.012848400568498, -0.18330584014622064], [46.67891683555504, 4.994030549674384, 1.938430173907606], [48.08786385538998, 4.090422690531299, 0.5677106414079942], [49.2139083659079, 5.806367629054674, 1.5422636521766107], [47.53475125037794, 4.708842472348172, 1.299791539783593], [45.19197872160484, 3.3952388933606685, 0.6756167012666032]],\n",
       "                {&quot;blur&quot;: 15, &quot;maxZoom&quot;: 18, &quot;minOpacity&quot;: 0.5, &quot;radius&quot;: 25}\n",
       "            );\n",
       "        \n",
       "    \n",
       "                heat_map_192362e767c3fda6dc75daaba71de0f8.addTo(map_8c2ea1b791593842be100b9cd5bfdfb9);\n",
       "&lt;/script&gt;\n",
       "&lt;/html&gt;\" style=\"position:absolute;width:100%;height:100%;left:0;top:0;border:none !important;\" allowfullscreen webkitallowfullscreen mozallowfullscreen></iframe></div></div>"
      ],
      "text/plain": [
       "<folium.folium.Map at 0x7f2e74f73aa0>"
      ]
     },
     "execution_count": 2,
     "metadata": {},
     "output_type": "execute_result"
    }
   ],
   "source": [
    "import folium\n",
    "from folium.plugins import HeatMap\n",
    "\n",
    "m = folium.Map([48.0, 5.0], zoom_start=6)\n",
    "\n",
    "HeatMap(data).add_to(m)\n",
    "\n",
    "m"
   ]
  }
 ],
 "metadata": {
  "jupytext": {
   "text_representation": {
    "extension": ".mystnb",
    "format_name": "myst"
   }
  },
  "language_info": {
   "codemirror_mode": {
    "name": "ipython",
    "version": 3
   },
   "file_extension": ".py",
   "mimetype": "text/x-python",
   "name": "python",
   "nbconvert_exporter": "python",
   "pygments_lexer": "ipython3",
   "version": "3.12.0"
  }
 },
 "nbformat": 4,
 "nbformat_minor": 5
}
