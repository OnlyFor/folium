{
 "cells": [
  {
   "cell_type": "markdown",
   "id": "84ec06d3",
   "metadata": {},
   "source": [
    "## Heatmap"
   ]
  },
  {
   "cell_type": "code",
   "execution_count": 1,
   "id": "e350f378",
   "metadata": {
    "execution": {
     "iopub.execute_input": "2023-10-26T15:46:20.950981Z",
     "iopub.status.busy": "2023-10-26T15:46:20.950733Z",
     "iopub.status.idle": "2023-10-26T15:46:21.015982Z",
     "shell.execute_reply": "2023-10-26T15:46:21.015460Z"
    }
   },
   "outputs": [],
   "source": [
    "import numpy as np\n",
    "\n",
    "data = (\n",
    "    np.random.normal(size=(100, 3)) * np.array([[1, 1, 1]]) + np.array([[48, 5, 1]])\n",
    ").tolist()"
   ]
  },
  {
   "cell_type": "code",
   "execution_count": 2,
   "id": "2d9d9bb6",
   "metadata": {
    "execution": {
     "iopub.execute_input": "2023-10-26T15:46:21.020029Z",
     "iopub.status.busy": "2023-10-26T15:46:21.019038Z",
     "iopub.status.idle": "2023-10-26T15:46:21.523159Z",
     "shell.execute_reply": "2023-10-26T15:46:21.522562Z"
    }
   },
   "outputs": [
    {
     "data": {
      "text/html": [
       "<div style=\"width:100%;\"><div style=\"position:relative;width:100%;height:0;padding-bottom:60%;\"><span style=\"color:#565656\">Make this Notebook Trusted to load map: File -> Trust Notebook</span><iframe srcdoc=\"&lt;!DOCTYPE html&gt;\n",
       "&lt;html&gt;\n",
       "&lt;head&gt;\n",
       "    \n",
       "    &lt;meta http-equiv=&quot;content-type&quot; content=&quot;text/html; charset=UTF-8&quot; /&gt;\n",
       "    \n",
       "        &lt;script&gt;\n",
       "            L_NO_TOUCH = false;\n",
       "            L_DISABLE_3D = false;\n",
       "        &lt;/script&gt;\n",
       "    \n",
       "    &lt;style&gt;html, body {width: 100%;height: 100%;margin: 0;padding: 0;}&lt;/style&gt;\n",
       "    &lt;style&gt;#map {position:absolute;top:0;bottom:0;right:0;left:0;}&lt;/style&gt;\n",
       "    &lt;script src=&quot;https://cdn.jsdelivr.net/npm/leaflet@1.9.3/dist/leaflet.js&quot;&gt;&lt;/script&gt;\n",
       "    &lt;script src=&quot;https://code.jquery.com/jquery-1.12.4.min.js&quot;&gt;&lt;/script&gt;\n",
       "    &lt;script src=&quot;https://cdn.jsdelivr.net/npm/bootstrap@5.2.2/dist/js/bootstrap.bundle.min.js&quot;&gt;&lt;/script&gt;\n",
       "    &lt;script src=&quot;https://cdnjs.cloudflare.com/ajax/libs/Leaflet.awesome-markers/2.0.2/leaflet.awesome-markers.js&quot;&gt;&lt;/script&gt;\n",
       "    &lt;link rel=&quot;stylesheet&quot; href=&quot;https://cdn.jsdelivr.net/npm/leaflet@1.9.3/dist/leaflet.css&quot;/&gt;\n",
       "    &lt;link rel=&quot;stylesheet&quot; href=&quot;https://cdn.jsdelivr.net/npm/bootstrap@5.2.2/dist/css/bootstrap.min.css&quot;/&gt;\n",
       "    &lt;link rel=&quot;stylesheet&quot; href=&quot;https://netdna.bootstrapcdn.com/bootstrap/3.0.0/css/bootstrap.min.css&quot;/&gt;\n",
       "    &lt;link rel=&quot;stylesheet&quot; href=&quot;https://cdn.jsdelivr.net/npm/@fortawesome/fontawesome-free@6.2.0/css/all.min.css&quot;/&gt;\n",
       "    &lt;link rel=&quot;stylesheet&quot; href=&quot;https://cdnjs.cloudflare.com/ajax/libs/Leaflet.awesome-markers/2.0.2/leaflet.awesome-markers.css&quot;/&gt;\n",
       "    &lt;link rel=&quot;stylesheet&quot; href=&quot;https://cdn.jsdelivr.net/gh/python-visualization/folium/folium/templates/leaflet.awesome.rotate.min.css&quot;/&gt;\n",
       "    \n",
       "            &lt;meta name=&quot;viewport&quot; content=&quot;width=device-width,\n",
       "                initial-scale=1.0, maximum-scale=1.0, user-scalable=no&quot; /&gt;\n",
       "            &lt;style&gt;\n",
       "                #map_c0d457760aa3bca6bba4cce66000fff9 {\n",
       "                    position: relative;\n",
       "                    width: 100.0%;\n",
       "                    height: 100.0%;\n",
       "                    left: 0.0%;\n",
       "                    top: 0.0%;\n",
       "                }\n",
       "                .leaflet-container { font-size: 1rem; }\n",
       "            &lt;/style&gt;\n",
       "        \n",
       "    &lt;script src=&quot;https://cdn.jsdelivr.net/gh/python-visualization/folium@main/folium/templates/leaflet_heat.min.js&quot;&gt;&lt;/script&gt;\n",
       "&lt;/head&gt;\n",
       "&lt;body&gt;\n",
       "    \n",
       "    \n",
       "            &lt;div class=&quot;folium-map&quot; id=&quot;map_c0d457760aa3bca6bba4cce66000fff9&quot; &gt;&lt;/div&gt;\n",
       "        \n",
       "&lt;/body&gt;\n",
       "&lt;script&gt;\n",
       "    \n",
       "    \n",
       "            var map_c0d457760aa3bca6bba4cce66000fff9 = L.map(\n",
       "                &quot;map_c0d457760aa3bca6bba4cce66000fff9&quot;,\n",
       "                {\n",
       "                    center: [48.0, 5.0],\n",
       "                    crs: L.CRS.EPSG3857,\n",
       "                    zoom: 6,\n",
       "                    zoomControl: true,\n",
       "                    preferCanvas: false,\n",
       "                }\n",
       "            );\n",
       "\n",
       "            \n",
       "\n",
       "        \n",
       "    \n",
       "            var tile_layer_52633e96a4e5145917d99b5fa396dfde = L.tileLayer(\n",
       "                &quot;https://{s}.tile.openstreetmap.org/{z}/{x}/{y}.png&quot;,\n",
       "                {&quot;attribution&quot;: &quot;Data by \\u0026copy; \\u003ca target=\\&quot;_blank\\&quot; href=\\&quot;http://openstreetmap.org\\&quot;\\u003eOpenStreetMap\\u003c/a\\u003e, under \\u003ca target=\\&quot;_blank\\&quot; href=\\&quot;http://www.openstreetmap.org/copyright\\&quot;\\u003eODbL\\u003c/a\\u003e.&quot;, &quot;detectRetina&quot;: false, &quot;maxNativeZoom&quot;: 18, &quot;maxZoom&quot;: 18, &quot;minZoom&quot;: 0, &quot;noWrap&quot;: false, &quot;opacity&quot;: 1, &quot;subdomains&quot;: &quot;abc&quot;, &quot;tms&quot;: false}\n",
       "            );\n",
       "        \n",
       "    \n",
       "                tile_layer_52633e96a4e5145917d99b5fa396dfde.addTo(map_c0d457760aa3bca6bba4cce66000fff9);\n",
       "    \n",
       "            var heat_map_7369166bc3f9d3fd97c2dc3b4d75d0e8 = L.heatLayer(\n",
       "                [[47.366468439740146, 4.861046750577372, 0.15020542972764594], [48.38748732368386, 6.0999796089216565, 0.36050292188463184], [50.411576215252936, 5.774598033401153, -0.6308370434257415], [47.26053736858395, 5.907593972454471, 1.6926169424895074], [48.58292182080206, 5.856200305494913, 0.5139913230651703], [49.38036529985758, 5.0244086811671265, 0.20052280964868352], [48.089231677997134, 5.896388984990607, 0.9286084158782965], [47.276960671166115, 4.410353686389041, 1.4591311008298893], [47.68547610009436, 3.3563407655339113, 0.40029056751944603], [49.11316242047722, 6.095137663051653, 0.11070797425652623], [46.6463574158597, 3.9001904101481575, -1.8637764659347718], [48.200907573318325, 4.75126098526579, -1.6003085859693718], [48.19977563899605, 6.027034518371336, 0.024780261423876904], [47.96813365690727, 5.058866958743464, 0.2644255034945149], [49.3553100852749, 5.177448912109501, 1.2638893575560157], [47.96545659267233, 4.674038755760764, 1.710471582095788], [49.77470241283401, 5.541914544329664, -1.1581325155465252], [48.406221216439576, 5.384181005782784, 1.9409187855384318], [46.46221256892323, 4.889380870420459, 0.37394503373925914], [47.09345741020226, 5.893265723282056, 1.9081002538089118], [49.70234725678397, 4.123261157376694, -1.1711537639547438], [48.89200956462766, 4.97891475769604, -0.7768786677158452], [48.14134279849459, 4.422747566174187, 0.6020406674861294], [46.57329457172542, 6.119132251521162, 1.1856732386492144], [47.528132576019146, 4.794673914856478, 1.3944864986691623], [48.70536316885051, 3.420706768735077, 1.1772105832357092], [46.45001990137087, 5.857719101453533, 1.3436870031904193], [46.09692732509998, 4.098350672352408, -0.2963253748688788], [47.36843679679475, 5.070071142981819, -0.02081349718243586], [47.588684072981984, 5.520189776467594, 0.6600196212376368], [49.20633006378422, 4.946238634053263, 0.4033282629812549], [47.48055063144215, 4.720689379692863, 1.726587531210173], [46.042711574447395, 4.0748927144901765, 2.3434921424331563], [48.32196110513292, 5.388291792159931, 1.5644924660979869], [47.609075568844105, 3.1998529692539917, 2.007582764800618], [47.65562659513958, 4.447966478085467, -0.15104033578915788], [47.495225522997686, 6.1442770295238605, 2.0136574430448397], [47.960021718368274, 5.3989428262777555, 1.0382513268288978], [49.60021457644764, 5.051206642638787, 1.2886045845353635], [48.49765274613757, 5.847319673747415, 2.378055647149099], [48.306955266241594, 4.565542854018995, 0.5197632290382024], [48.664298495961795, 3.6505419200907134, -0.31047013097080134], [47.98459140981703, 5.4778301305451365, 1.1141894913862578], [47.27811543903747, 5.496973929051441, 1.7502327601802818], [45.81763446841066, 3.956429500896572, 1.3465784613476295], [47.56436371345, 5.835861590809695, 1.3938792863811988], [46.87521617792846, 4.060854383623142, 0.8320409202839565], [47.23427688077516, 6.4830906062491245, 0.9146489541683194], [49.88315229184249, 5.6150366806798715, 1.4024423119319223], [48.10036454915631, 6.048233134010818, 1.6124599834741875], [47.94498182396967, 3.474022679134648, 1.032128389719492], [48.89203670607073, 4.423119422585813, 0.4988390243338279], [48.59854367076826, 5.777545142041652, 1.238018649734173], [48.34127341590796, 4.21840217088646, -0.038529186710389185], [49.09655220575025, 5.329666161647633, 1.1248464563099576], [47.145365064769535, 4.787759615426621, 1.5774451052680534], [48.972747401880824, 4.906398425657023, 1.9218998042442805], [45.83753387567015, 3.421091055645812, 0.7483857377190883], [48.75616882854447, 5.05524187671691, 2.3417168664863315], [47.544387972572295, 4.705665863683298, 1.0092747348150437], [45.94951455879523, 5.152811321741632, 1.5771307451250638], [49.36470874035259, 6.86480370172313, 0.06425718578132877], [48.81729106448619, 5.133867690123674, -0.7257378511416634], [49.00429457825901, 3.6885321908987434, 1.1964273672561365], [48.82542440800129, 4.192237316998997, 1.4774191321885464], [47.165921667176455, 4.83692522297795, 2.010091820493897], [48.247395096396964, 3.9649166544845436, -0.7967925596431666], [47.34546825506109, 6.174624551578967, -0.6791739631550724], [47.231506855001975, 4.8946349592469165, 0.4438120450629295], [46.92631910841744, 3.8328344444978564, 0.849151831006147], [47.833684941540916, 5.319765568748354, 1.2365685773254727], [45.363252421980164, 4.523025444003472, 0.27682833342085966], [47.49168704947782, 5.876524523283802, 2.9050759078882287], [47.82691738744302, 5.3756131624020105, -0.3261395817766257], [46.65742918247062, 5.270956380763113, -0.561229619323161], [47.24088827768203, 4.535191857606506, 1.2088676355376853], [47.52935543401683, 5.037766115097006, 2.2509460246579724], [50.425477204367596, 4.489676160273569, 0.14406881262780724], [45.93863879822141, 3.679338053861398, 0.8687387902088091], [48.99237285671043, 5.911803272590193, 1.7740408867953343], [46.711698412200796, 3.5380962427300977, 0.4559120650011663], [47.057659698292674, 4.687178825424093, 0.5203156538931946], [46.91749866794305, 2.37596393463387, 0.33966569380832146], [48.11175981304175, 6.935921854920928, 2.0022205384512333], [47.001646806769145, 5.488704664653368, 2.2228176783585463], [47.22349150802477, 4.611082304060595, 1.375599592042508], [48.415711129828416, 5.092713115406023, -1.811118636478239], [47.74431033014651, 4.988756120029792, 1.8439733740669986], [46.47356655964901, 4.78070393058103, 0.7345925541238834], [48.20821301631521, 4.206470979346685, 2.8521559711824715], [47.96074444223363, 4.940244598974692, 1.0785104044749314], [46.9617692697621, 4.066633946260398, -0.2751647608699379], [48.85542042133841, 2.1286003488834253, 2.4749017987341073], [48.56565411908237, 6.422930334076261, -0.6195675881776923], [48.479314804298404, 5.4314922155180945, 0.6080659662933505], [48.02137569098429, 5.659175463061466, 1.6950832495218453], [47.53928440135129, 3.2883425121811385, 1.5305495215369473], [47.27541587188178, 4.878545701943775, 0.22043762437197978], [48.65474598316955, 6.60857811214551, -0.010249144181887715], [48.433777994715676, 4.4249946926561465, 0.9976477229329833]],\n",
       "                {&quot;blur&quot;: 15, &quot;maxZoom&quot;: 18, &quot;minOpacity&quot;: 0.5, &quot;radius&quot;: 25}\n",
       "            );\n",
       "        \n",
       "    \n",
       "                heat_map_7369166bc3f9d3fd97c2dc3b4d75d0e8.addTo(map_c0d457760aa3bca6bba4cce66000fff9);\n",
       "&lt;/script&gt;\n",
       "&lt;/html&gt;\" style=\"position:absolute;width:100%;height:100%;left:0;top:0;border:none !important;\" allowfullscreen webkitallowfullscreen mozallowfullscreen></iframe></div></div>"
      ],
      "text/plain": [
       "<folium.folium.Map at 0x7fd60189f080>"
      ]
     },
     "execution_count": 2,
     "metadata": {},
     "output_type": "execute_result"
    }
   ],
   "source": [
    "import folium\n",
    "from folium.plugins import HeatMap\n",
    "\n",
    "m = folium.Map([48.0, 5.0], zoom_start=6)\n",
    "\n",
    "HeatMap(data).add_to(m)\n",
    "\n",
    "m"
   ]
  }
 ],
 "metadata": {
  "jupytext": {
   "text_representation": {
    "extension": ".mystnb",
    "format_name": "myst"
   }
  },
  "language_info": {
   "codemirror_mode": {
    "name": "ipython",
    "version": 3
   },
   "file_extension": ".py",
   "mimetype": "text/x-python",
   "name": "python",
   "nbconvert_exporter": "python",
   "pygments_lexer": "ipython3",
   "version": "3.12.0"
  }
 },
 "nbformat": 4,
 "nbformat_minor": 5
}
