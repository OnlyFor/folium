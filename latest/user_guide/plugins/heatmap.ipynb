{
 "cells": [
  {
   "cell_type": "markdown",
   "id": "7a3b1598",
   "metadata": {},
   "source": [
    "## Heatmap"
   ]
  },
  {
   "cell_type": "code",
   "execution_count": 1,
   "id": "e92cf1ce",
   "metadata": {
    "execution": {
     "iopub.execute_input": "2024-04-07T11:02:15.737044Z",
     "iopub.status.busy": "2024-04-07T11:02:15.736885Z",
     "iopub.status.idle": "2024-04-07T11:02:15.797868Z",
     "shell.execute_reply": "2024-04-07T11:02:15.797437Z"
    }
   },
   "outputs": [],
   "source": [
    "import numpy as np\n",
    "\n",
    "data = (\n",
    "    np.random.normal(size=(100, 3)) * np.array([[1, 1, 1]]) + np.array([[48, 5, 1]])\n",
    ").tolist()"
   ]
  },
  {
   "cell_type": "code",
   "execution_count": 2,
   "id": "56b0bcbf",
   "metadata": {
    "execution": {
     "iopub.execute_input": "2024-04-07T11:02:15.801122Z",
     "iopub.status.busy": "2024-04-07T11:02:15.800242Z",
     "iopub.status.idle": "2024-04-07T11:02:16.220397Z",
     "shell.execute_reply": "2024-04-07T11:02:16.219945Z"
    }
   },
   "outputs": [
    {
     "data": {
      "text/html": [
       "<div style=\"width:100%;\"><div style=\"position:relative;width:100%;height:0;padding-bottom:60%;\"><span style=\"color:#565656\">Make this Notebook Trusted to load map: File -> Trust Notebook</span><iframe srcdoc=\"&lt;!DOCTYPE html&gt;\n",
       "&lt;html&gt;\n",
       "&lt;head&gt;\n",
       "    \n",
       "    &lt;meta http-equiv=&quot;content-type&quot; content=&quot;text/html; charset=UTF-8&quot; /&gt;\n",
       "    \n",
       "        &lt;script&gt;\n",
       "            L_NO_TOUCH = false;\n",
       "            L_DISABLE_3D = false;\n",
       "        &lt;/script&gt;\n",
       "    \n",
       "    &lt;style&gt;html, body {width: 100%;height: 100%;margin: 0;padding: 0;}&lt;/style&gt;\n",
       "    &lt;style&gt;#map {position:absolute;top:0;bottom:0;right:0;left:0;}&lt;/style&gt;\n",
       "    &lt;script src=&quot;https://cdn.jsdelivr.net/npm/leaflet@1.9.3/dist/leaflet.js&quot;&gt;&lt;/script&gt;\n",
       "    &lt;script src=&quot;https://code.jquery.com/jquery-3.7.1.min.js&quot;&gt;&lt;/script&gt;\n",
       "    &lt;script src=&quot;https://cdn.jsdelivr.net/npm/bootstrap@5.2.2/dist/js/bootstrap.bundle.min.js&quot;&gt;&lt;/script&gt;\n",
       "    &lt;script src=&quot;https://cdnjs.cloudflare.com/ajax/libs/Leaflet.awesome-markers/2.0.2/leaflet.awesome-markers.js&quot;&gt;&lt;/script&gt;\n",
       "    &lt;link rel=&quot;stylesheet&quot; href=&quot;https://cdn.jsdelivr.net/npm/leaflet@1.9.3/dist/leaflet.css&quot;/&gt;\n",
       "    &lt;link rel=&quot;stylesheet&quot; href=&quot;https://cdn.jsdelivr.net/npm/bootstrap@5.2.2/dist/css/bootstrap.min.css&quot;/&gt;\n",
       "    &lt;link rel=&quot;stylesheet&quot; href=&quot;https://netdna.bootstrapcdn.com/bootstrap/3.0.0/css/bootstrap-glyphicons.css&quot;/&gt;\n",
       "    &lt;link rel=&quot;stylesheet&quot; href=&quot;https://cdn.jsdelivr.net/npm/@fortawesome/fontawesome-free@6.2.0/css/all.min.css&quot;/&gt;\n",
       "    &lt;link rel=&quot;stylesheet&quot; href=&quot;https://cdnjs.cloudflare.com/ajax/libs/Leaflet.awesome-markers/2.0.2/leaflet.awesome-markers.css&quot;/&gt;\n",
       "    &lt;link rel=&quot;stylesheet&quot; href=&quot;https://cdn.jsdelivr.net/gh/python-visualization/folium/folium/templates/leaflet.awesome.rotate.min.css&quot;/&gt;\n",
       "    \n",
       "            &lt;meta name=&quot;viewport&quot; content=&quot;width=device-width,\n",
       "                initial-scale=1.0, maximum-scale=1.0, user-scalable=no&quot; /&gt;\n",
       "            &lt;style&gt;\n",
       "                #map_acbdade37b6bd51d913e3dddf59b2b42 {\n",
       "                    position: relative;\n",
       "                    width: 100.0%;\n",
       "                    height: 100.0%;\n",
       "                    left: 0.0%;\n",
       "                    top: 0.0%;\n",
       "                }\n",
       "                .leaflet-container { font-size: 1rem; }\n",
       "            &lt;/style&gt;\n",
       "        \n",
       "    &lt;script src=&quot;https://cdn.jsdelivr.net/gh/python-visualization/folium@main/folium/templates/leaflet_heat.min.js&quot;&gt;&lt;/script&gt;\n",
       "&lt;/head&gt;\n",
       "&lt;body&gt;\n",
       "    \n",
       "    \n",
       "            &lt;div class=&quot;folium-map&quot; id=&quot;map_acbdade37b6bd51d913e3dddf59b2b42&quot; &gt;&lt;/div&gt;\n",
       "        \n",
       "&lt;/body&gt;\n",
       "&lt;script&gt;\n",
       "    \n",
       "    \n",
       "            var map_acbdade37b6bd51d913e3dddf59b2b42 = L.map(\n",
       "                &quot;map_acbdade37b6bd51d913e3dddf59b2b42&quot;,\n",
       "                {\n",
       "                    center: [48.0, 5.0],\n",
       "                    crs: L.CRS.EPSG3857,\n",
       "                    zoom: 6,\n",
       "                    zoomControl: true,\n",
       "                    preferCanvas: false,\n",
       "                }\n",
       "            );\n",
       "\n",
       "            \n",
       "\n",
       "        \n",
       "    \n",
       "            var tile_layer_b917f466e23fc7f8e7bb43663460b62a = L.tileLayer(\n",
       "                &quot;https://tile.openstreetmap.org/{z}/{x}/{y}.png&quot;,\n",
       "                {&quot;attribution&quot;: &quot;\\u0026copy; \\u003ca href=\\&quot;https://www.openstreetmap.org/copyright\\&quot;\\u003eOpenStreetMap\\u003c/a\\u003e contributors&quot;, &quot;detectRetina&quot;: false, &quot;maxNativeZoom&quot;: 19, &quot;maxZoom&quot;: 19, &quot;minZoom&quot;: 0, &quot;noWrap&quot;: false, &quot;opacity&quot;: 1, &quot;subdomains&quot;: &quot;abc&quot;, &quot;tms&quot;: false}\n",
       "            );\n",
       "        \n",
       "    \n",
       "            tile_layer_b917f466e23fc7f8e7bb43663460b62a.addTo(map_acbdade37b6bd51d913e3dddf59b2b42);\n",
       "        \n",
       "    \n",
       "            var heat_map_3e502f175f8d9848a5ac39c3ae72149f = L.heatLayer(\n",
       "                [[47.77413984039323, 5.127950301598021, 0.025522355330379165], [48.203828033158196, 4.661570015290117, 1.583711790522291], [48.22830624793437, 5.51330391774859, 1.2670638529457663], [46.01871239245559, 6.162518886140228, 0.6544417723125013], [48.4006304804541, 4.115209009089077, 2.4082956788904064], [48.35539488893667, 3.950965733982132, 3.5318751972602125], [46.40863561066241, 4.16531429555495, 2.105963443904095], [47.79443469439385, 4.603677074744723, 1.3046135718316045], [47.909599436952774, 5.604905582314577, 0.8518671829830027], [47.662821840926945, 4.402950446520624, 1.1182533725157775], [46.90567548257369, 5.837376810314946, 1.2901232126057647], [48.02962201100104, 3.838924108726693, 1.7705454693644351], [47.12768519895032, 4.63587775673799, 0.5103134371677231], [48.61239194202178, 5.275459549034691, 1.3088742053469475], [49.39180515490501, 6.925603715674957, -0.4846325341274098], [49.242603228191776, 5.364890599905889, -0.42522133030803766], [47.4564302843349, 5.311026330004597, 0.8510615241919345], [48.035552669755305, 5.00304878381497, 0.012112340616753925], [48.45855125331574, 5.243517844498084, 2.1606752991864875], [48.22803030197801, 5.231346459844516, 0.808099987544168], [47.51498476734544, 6.22381616792388, 1.4557330054487658], [47.648232223098645, 6.209031752762481, 1.0676891078064397], [48.22300927129381, 7.221085648974322, 0.7998172272520113], [48.175271935380515, 3.1683602284477033, 0.8526784603034862], [47.89184893849262, 3.6974144074208297, 1.581485497943798], [46.7509990322792, 5.604412740348599, 1.3279775405847667], [47.38476920705444, 4.395412883372038, 0.36223678961943684], [48.1790831449022, 5.660095601500698, 1.2747909704014497], [48.86300393248994, 5.208319111843068, 0.7946720289979251], [48.47586574447738, 3.14692502870546, 0.13915463861612765], [47.1176601446293, 5.249997024757251, 0.6927897928619902], [46.29399838966359, 6.2479908651721345, 0.8320880452203492], [47.06036821385489, 2.9863010307141953, 0.20369050025075108], [49.60973286748147, 5.358247103440565, -0.005677899778494977], [47.427543300435104, 7.484375721724316, 1.6207905299390544], [47.22154501417203, 4.558504838808487, 2.559663684979726], [47.33898657850888, 4.102421262163217, 2.5573244563700546], [47.165904291749406, 4.040539886124278, 2.2534305742911718], [48.330965735919534, 4.035914168505974, 0.3271408181340545], [48.1070830037236, 4.843524868808875, 1.282910949661046], [48.814183953613686, 4.068812570821727, 0.29152969012408236], [46.135578617039144, 3.379081203917068, 0.7886135019453226], [48.80894610662233, 4.329243076464519, -0.4151140992205362], [49.01348550210698, 5.112583249781325, 2.0792009798417204], [46.23854855429005, 5.434513343750321, 1.8865626200739771], [48.374585916327746, 6.552091883585355, -0.7460322027610806], [48.34756021951729, 4.064280044836327, 2.0144928071017434], [46.84994544399048, 5.89274316936515, 1.9819536706504517], [46.97028834191924, 6.221246167380398, -0.7555887809783037], [48.26375601220459, 5.437521521428005, 0.9816498706517887], [48.30034286508224, 5.323425430347886, 0.5367156111157037], [48.505099054567914, 3.8759760110347914, 1.0279407421239286], [48.08195980445971, 6.226584663318066, 0.9486193670059463], [47.172558961347136, 4.344687429605884, 2.022873639685388], [46.244054011699205, 4.921589726286658, 1.3414444160322656], [48.31880700312249, 4.6446886817421085, 0.0035125189857979633], [48.57260696563146, 4.940415880344647, 1.4153040958699274], [46.62838220318664, 4.685674866035359, 2.1184085024068677], [48.09671070081461, 5.5784225522946285, 1.4744752834732053], [48.80667407159458, 4.760135768786187, 0.9753370977036396], [47.11685279012696, 5.270393890810819, -0.24182866487306387], [50.20924261680532, 5.097841220125943, -0.09771257841620451], [46.71321899154081, 4.486544575473706, 0.8376885327814552], [47.062539902357614, 5.272827259327026, 1.0645890150697945], [48.34136659285625, 3.3392075206553917, -0.7386811741724546], [48.57125108659805, 6.825033203199363, 0.8467391808637459], [47.77998206481861, 4.615309301792005, 0.6942172097399958], [48.875088320693585, 4.7136578559993705, -0.677076162474745], [47.5854610340348, 4.5137099038746324, 0.022136937673176593], [48.05762463922209, 4.475947949340429, 0.9456752076541249], [48.43915258242238, 5.19855294343788, 1.0853172758812428], [50.15617075964966, 6.1183519828916815, 1.2599994685056881], [47.8379064362611, 6.2289107179335295, 1.8129208374715478], [46.79108134278138, 3.5471876295083336, 0.5138628380046559], [47.210398654066246, 5.319541662934965, 1.1814492644571606], [46.497901739854804, 5.051446780856209, 1.3239591674158282], [49.23563434808981, 5.833204045454552, -0.2221401000118124], [46.4015045865158, 5.236101451518867, -0.6900282889115632], [47.9859207115506, 5.164291128839428, 2.1744600949954123], [49.419050359345675, 4.364167342373628, 0.3033060259781116], [47.57999410768817, 3.4694722094495005, 0.31984029775086975], [49.63624842183444, 5.534983148269844, 0.0555405374048068], [46.615828567519976, 6.041106906513526, 0.6003515663918328], [48.62223342638706, 6.620698201505767, 2.629434527024185], [47.32019824533113, 6.451730351771282, 0.580583745094725], [48.25875772243406, 4.523033545467582, 2.480565738449942], [48.45759376433126, 3.5725244314044495, 2.841305072292942], [45.95755866889561, 6.362490650311141, 0.31543795807841357], [46.43106165373408, 5.223359600704634, 0.9542591659009065], [45.700666553586686, 6.118571660763518, 0.5300146898362701], [47.70166303701492, 4.87242005357291, 1.293156001868661], [47.20546378438773, 3.8141572243036936, -0.46792735556986287], [48.50697603576832, 6.836261284356364, 0.489691980160614], [47.200015796481246, 5.898144191213006, 1.5249952179424966], [47.837179434535045, 5.772048216085642, 0.08487466608172567], [46.78499897065111, 6.099041295214766, 0.7958254659436602], [48.00472421257347, 4.556266291935113, 2.3630292755243096], [46.984083267911295, 4.48851876534235, 1.5823221176152937], [48.67796284974085, 4.595298975374362, 1.166748199428016], [46.723602684848906, 6.544155439133821, 1.1305032928333476]],\n",
       "                {&quot;blur&quot;: 15, &quot;maxZoom&quot;: 18, &quot;minOpacity&quot;: 0.5, &quot;radius&quot;: 25}\n",
       "            );\n",
       "        \n",
       "    \n",
       "            heat_map_3e502f175f8d9848a5ac39c3ae72149f.addTo(map_acbdade37b6bd51d913e3dddf59b2b42);\n",
       "        \n",
       "&lt;/script&gt;\n",
       "&lt;/html&gt;\" style=\"position:absolute;width:100%;height:100%;left:0;top:0;border:none !important;\" allowfullscreen webkitallowfullscreen mozallowfullscreen></iframe></div></div>"
      ],
      "text/plain": [
       "<folium.folium.Map at 0x7fd7944fd820>"
      ]
     },
     "execution_count": 2,
     "metadata": {},
     "output_type": "execute_result"
    }
   ],
   "source": [
    "import folium\n",
    "from folium.plugins import HeatMap\n",
    "\n",
    "m = folium.Map([48.0, 5.0], zoom_start=6)\n",
    "\n",
    "HeatMap(data).add_to(m)\n",
    "\n",
    "m"
   ]
  }
 ],
 "metadata": {
  "jupytext": {
   "text_representation": {
    "extension": ".mystnb",
    "format_name": "myst"
   }
  },
  "language_info": {
   "codemirror_mode": {
    "name": "ipython",
    "version": 3
   },
   "file_extension": ".py",
   "mimetype": "text/x-python",
   "name": "python",
   "nbconvert_exporter": "python",
   "pygments_lexer": "ipython3",
   "version": "3.12.2"
  }
 },
 "nbformat": 4,
 "nbformat_minor": 5
}
