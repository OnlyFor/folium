{
 "cells": [
  {
   "cell_type": "markdown",
   "id": "27fd2d46",
   "metadata": {},
   "source": [
    "## Heatmap"
   ]
  },
  {
   "cell_type": "code",
   "execution_count": 1,
   "id": "b28018fb",
   "metadata": {
    "execution": {
     "iopub.execute_input": "2023-10-17T08:36:35.862522Z",
     "iopub.status.busy": "2023-10-17T08:36:35.862302Z",
     "iopub.status.idle": "2023-10-17T08:36:35.938147Z",
     "shell.execute_reply": "2023-10-17T08:36:35.937525Z"
    }
   },
   "outputs": [],
   "source": [
    "import numpy as np\n",
    "\n",
    "data = (\n",
    "    np.random.normal(size=(100, 3)) * np.array([[1, 1, 1]]) + np.array([[48, 5, 1]])\n",
    ").tolist()"
   ]
  },
  {
   "cell_type": "code",
   "execution_count": 2,
   "id": "19c6c8bb",
   "metadata": {
    "execution": {
     "iopub.execute_input": "2023-10-17T08:36:35.943199Z",
     "iopub.status.busy": "2023-10-17T08:36:35.942032Z",
     "iopub.status.idle": "2023-10-17T08:36:36.483278Z",
     "shell.execute_reply": "2023-10-17T08:36:36.482614Z"
    }
   },
   "outputs": [
    {
     "data": {
      "text/html": [
       "<div style=\"width:100%;\"><div style=\"position:relative;width:100%;height:0;padding-bottom:60%;\"><span style=\"color:#565656\">Make this Notebook Trusted to load map: File -> Trust Notebook</span><iframe srcdoc=\"&lt;!DOCTYPE html&gt;\n",
       "&lt;html&gt;\n",
       "&lt;head&gt;\n",
       "    \n",
       "    &lt;meta http-equiv=&quot;content-type&quot; content=&quot;text/html; charset=UTF-8&quot; /&gt;\n",
       "    \n",
       "        &lt;script&gt;\n",
       "            L_NO_TOUCH = false;\n",
       "            L_DISABLE_3D = false;\n",
       "        &lt;/script&gt;\n",
       "    \n",
       "    &lt;style&gt;html, body {width: 100%;height: 100%;margin: 0;padding: 0;}&lt;/style&gt;\n",
       "    &lt;style&gt;#map {position:absolute;top:0;bottom:0;right:0;left:0;}&lt;/style&gt;\n",
       "    &lt;script src=&quot;https://cdn.jsdelivr.net/npm/leaflet@1.9.3/dist/leaflet.js&quot;&gt;&lt;/script&gt;\n",
       "    &lt;script src=&quot;https://code.jquery.com/jquery-1.12.4.min.js&quot;&gt;&lt;/script&gt;\n",
       "    &lt;script src=&quot;https://cdn.jsdelivr.net/npm/bootstrap@5.2.2/dist/js/bootstrap.bundle.min.js&quot;&gt;&lt;/script&gt;\n",
       "    &lt;script src=&quot;https://cdnjs.cloudflare.com/ajax/libs/Leaflet.awesome-markers/2.0.2/leaflet.awesome-markers.js&quot;&gt;&lt;/script&gt;\n",
       "    &lt;link rel=&quot;stylesheet&quot; href=&quot;https://cdn.jsdelivr.net/npm/leaflet@1.9.3/dist/leaflet.css&quot;/&gt;\n",
       "    &lt;link rel=&quot;stylesheet&quot; href=&quot;https://cdn.jsdelivr.net/npm/bootstrap@5.2.2/dist/css/bootstrap.min.css&quot;/&gt;\n",
       "    &lt;link rel=&quot;stylesheet&quot; href=&quot;https://netdna.bootstrapcdn.com/bootstrap/3.0.0/css/bootstrap.min.css&quot;/&gt;\n",
       "    &lt;link rel=&quot;stylesheet&quot; href=&quot;https://cdn.jsdelivr.net/npm/@fortawesome/fontawesome-free@6.2.0/css/all.min.css&quot;/&gt;\n",
       "    &lt;link rel=&quot;stylesheet&quot; href=&quot;https://cdnjs.cloudflare.com/ajax/libs/Leaflet.awesome-markers/2.0.2/leaflet.awesome-markers.css&quot;/&gt;\n",
       "    &lt;link rel=&quot;stylesheet&quot; href=&quot;https://cdn.jsdelivr.net/gh/python-visualization/folium/folium/templates/leaflet.awesome.rotate.min.css&quot;/&gt;\n",
       "    \n",
       "            &lt;meta name=&quot;viewport&quot; content=&quot;width=device-width,\n",
       "                initial-scale=1.0, maximum-scale=1.0, user-scalable=no&quot; /&gt;\n",
       "            &lt;style&gt;\n",
       "                #map_8d095c411e5b96249310c08edaa5c850 {\n",
       "                    position: relative;\n",
       "                    width: 100.0%;\n",
       "                    height: 100.0%;\n",
       "                    left: 0.0%;\n",
       "                    top: 0.0%;\n",
       "                }\n",
       "                .leaflet-container { font-size: 1rem; }\n",
       "            &lt;/style&gt;\n",
       "        \n",
       "    &lt;script src=&quot;https://cdn.jsdelivr.net/gh/python-visualization/folium@main/folium/templates/leaflet_heat.min.js&quot;&gt;&lt;/script&gt;\n",
       "&lt;/head&gt;\n",
       "&lt;body&gt;\n",
       "    \n",
       "    \n",
       "            &lt;div class=&quot;folium-map&quot; id=&quot;map_8d095c411e5b96249310c08edaa5c850&quot; &gt;&lt;/div&gt;\n",
       "        \n",
       "&lt;/body&gt;\n",
       "&lt;script&gt;\n",
       "    \n",
       "    \n",
       "            var map_8d095c411e5b96249310c08edaa5c850 = L.map(\n",
       "                &quot;map_8d095c411e5b96249310c08edaa5c850&quot;,\n",
       "                {\n",
       "                    center: [48.0, 5.0],\n",
       "                    crs: L.CRS.EPSG3857,\n",
       "                    zoom: 6,\n",
       "                    zoomControl: true,\n",
       "                    preferCanvas: false,\n",
       "                }\n",
       "            );\n",
       "\n",
       "            \n",
       "\n",
       "        \n",
       "    \n",
       "            var tile_layer_5bc9f44de753723bc899ae33534a0db4 = L.tileLayer(\n",
       "                &quot;https://stamen-tiles-{s}.a.ssl.fastly.net/toner/{z}/{x}/{y}.png&quot;,\n",
       "                {&quot;attribution&quot;: &quot;Map tiles by \\u003ca target=\\&quot;_blank\\&quot; href=\\&quot;http://stamen.com\\&quot;\\u003eStamen Design\\u003c/a\\u003e, under \\u003ca target=\\&quot;_blank\\&quot; href=\\&quot;http://creativecommons.org/licenses/by/3.0\\&quot;\\u003eCC BY 3.0\\u003c/a\\u003e. Data by \\u0026copy; \\u003ca target=\\&quot;_blank\\&quot; href=\\&quot;http://openstreetmap.org\\&quot;\\u003eOpenStreetMap\\u003c/a\\u003e, under \\u003ca target=\\&quot;_blank\\&quot; href=\\&quot;http://www.openstreetmap.org/copyright\\&quot;\\u003eODbL\\u003c/a\\u003e.&quot;, &quot;detectRetina&quot;: false, &quot;maxNativeZoom&quot;: 18, &quot;maxZoom&quot;: 18, &quot;minZoom&quot;: 0, &quot;noWrap&quot;: false, &quot;opacity&quot;: 1, &quot;subdomains&quot;: &quot;abc&quot;, &quot;tms&quot;: false}\n",
       "            );\n",
       "        \n",
       "    \n",
       "                tile_layer_5bc9f44de753723bc899ae33534a0db4.addTo(map_8d095c411e5b96249310c08edaa5c850);\n",
       "    \n",
       "            var heat_map_9d85d67ef741a073a3985c3dae94aa37 = L.heatLayer(\n",
       "                [[48.01069579346107, 7.118727048540697, 1.831452612065799], [47.20131522320582, 5.401476680193966, 1.6300768013298477], [48.62965310288974, 5.780010405970375, 2.5181180274323163], [47.30485633210711, 5.923792520435635, 0.7413074818456911], [47.53903462646469, 6.072037373198935, -0.14169971055051467], [49.277853974637544, 3.2461960876638742, 2.0307493173240845], [46.757445343506426, 4.046444582295037, 2.2138454920627755], [49.5946702995411, 3.786614325648954, 1.0346595704567947], [49.62150218583827, 5.266653606887669, -1.9949547531456324], [49.0446034960127, 5.761148981950369, 1.5085863017373513], [49.579420123680826, 5.803490259535197, 1.6730860320322822], [48.05166833327862, 4.238725004037002, 0.7669756698972816], [47.652607595357054, 4.784813456387422, 0.954270060942489], [47.23783229135966, 4.908185628463639, -0.5457232783197696], [48.20971168600721, 5.553114517800224, 1.4808963994777085], [47.678484992065876, 4.403288290630215, 2.063350143998868], [48.76939932329267, 6.585640909123963, 1.8436243646022512], [48.46162649930201, 5.038765531726669, 1.8591708660570325], [48.93380102086204, 4.8347756360745935, 0.7427872553166166], [49.99221581010145, 5.813164906386106, 2.916294139068129], [47.94407313000157, 6.17976242329595, 1.5498819872926823], [47.59412691660271, 4.927553134798538, 0.8826397744369939], [49.6596420768057, 5.351506667596595, 0.9487329453866346], [46.91472299869382, 6.345470923774371, 1.4891046371203225], [48.43368709231117, 6.193338024927436, 1.3930095392149608], [47.99754660833107, 2.663151531178473, 0.11733159092181378], [48.94895796684196, 3.8571179764806662, 0.28038822974922817], [47.581973263146615, 4.581120256363658, 0.8264004682895818], [50.23202622429909, 4.723085464894132, 0.4997518722091213], [46.95987335170976, 6.2569520784348835, 1.6112423681029018], [48.33583200201023, 5.798701423896393, 1.7887076073408255], [48.96253041401548, 5.398056386585721, 3.448391152539072], [48.35101306842353, 5.34273200478326, -0.23748515433756068], [48.36358994741741, 5.257929840859688, 1.4805590109139402], [47.06190811788043, 5.535797041098106, -0.7778319175662742], [47.35607833236184, 6.2590296612071965, 1.3019935666394273], [46.56458620682042, 5.497845572473787, 0.9024896170998699], [47.63061281097298, 4.956645642446771, 1.3376927615225616], [49.45590854491033, 7.198725332069783, 0.7870160705619731], [48.923195092685276, 5.5265389521690835, 2.120768214892054], [47.30860166635502, 4.302899310195584, 0.8265956766919661], [47.95368221746124, 5.089803546038186, 1.5941369614771705], [48.17040435222853, 3.7929578903609986, 1.1065679661569414], [45.88198463954355, 3.7752603193453247, -0.7812031560593444], [48.14111008396534, 4.819228505649052, -0.545558058608951], [48.390127379524415, 5.6471144180902115, -0.013461045792935389], [49.307400005309795, 4.248668666092149, 1.66441274608718], [46.462600063913165, 4.321585861618806, 1.0011777896730658], [47.9620945682472, 5.789290169892648, 1.5152183509349324], [47.804474632543815, 4.203871254771325, 0.7976210576497289], [46.822532260527694, 5.057528275371027, 0.41461779145124145], [47.44225520368312, 4.116614481575947, 0.25632672065586437], [46.87854553196108, 5.323946196362301, 2.72499707917462], [48.722317366824356, 4.6352278280523365, 0.1434093457271417], [47.53880549686939, 6.505191535993445, 0.31843282018316965], [48.756706868389614, 5.157102950552062, -0.2174675605184342], [48.377838653866945, 4.906781192087481, 1.0616871048144414], [48.35416344716517, 5.294524871325613, 1.1967746462212456], [47.96609324696592, 5.077720575995762, 1.4019653236428746], [47.40511961422879, 1.7749528903221297, 0.6701872398439442], [47.897217957469856, 3.319060495819511, 1.9076244639187356], [48.76259256350224, 3.8199529324228223, 2.3605205165486236], [44.90164623471628, 6.017321574294642, 0.9709898584907255], [47.8777992723996, 4.800609082818333, 0.5590779920426974], [47.57472119550852, 4.894930007983613, -0.2034848255926054], [47.377902577810644, 4.003823816209794, 0.6425563881665972], [47.988553388865995, 6.063523390264821, 0.5093273574510641], [48.050540578923695, 4.2006805803360265, 0.629789045871828], [48.221536633415866, 5.262084186977767, 1.2608054828914461], [48.94950106386988, 5.796578862446, 1.5929769115299433], [48.426443208078304, 5.882858517307572, -0.11448164885269674], [48.80500351949261, 4.848989522938961, 0.3007121330172732], [48.5292814869937, 4.9380285701085675, -0.6357869990865928], [48.74284964211347, 3.2964427755233086, -0.31357171918813154], [47.52826374903225, 3.439165723948877, 1.1582957231587738], [48.89238636064965, 5.370990910660217, -0.09730854506165842], [49.3889995950931, 4.845454426148895, 0.32688995710744784], [47.52736501489224, 4.134914742435325, 1.7224554661417155], [49.51241920815014, 3.312554035055606, 2.2104957396867597], [47.87179854778548, 5.212639239246538, 1.713710025046089], [49.271895473923834, 5.984240797538999, 0.41099983940552953], [48.20851074175735, 5.17646922746301, 0.5709653656106064], [46.85953523586842, 5.354059639052411, 1.5086491621698173], [47.24928886598657, 5.606343282368563, -0.5315554948988033], [47.147049588926016, 3.729036038225115, 2.570241109158829], [47.94547935855373, 4.0518039818661915, 0.6912758062055603], [47.71001029450001, 5.779316087430694, 2.657665394791205], [48.18472190536305, 5.52366430361414, 0.19752516418382038], [46.8265089945369, 5.849590281514784, 1.1416201847047491], [46.87776631002575, 4.370680833604565, 1.2104303575489075], [49.15722433718285, 7.957220708971917, -0.3307645565626316], [48.294105710243066, 4.616880116001792, 0.4212572513359827], [47.559072029131926, 4.14530340466836, 1.1890540305991637], [49.40025779710838, 5.459660784340607, 1.2686955662680768], [47.5733001015215, 4.091020989259133, 0.2970953855796524], [47.99633671039922, 6.08765200527241, 1.4614503898024576], [48.2182897026593, 5.261294924268713, 1.5457170482473581], [49.456091438313244, 5.315278030278317, 2.3535630382132973], [47.76255617928104, 5.296846225908521, 3.3957686730308785], [49.11903214365838, 4.423488202431731, 0.92551726891965]],\n",
       "                {&quot;blur&quot;: 15, &quot;maxZoom&quot;: 18, &quot;minOpacity&quot;: 0.5, &quot;radius&quot;: 25}\n",
       "            );\n",
       "        \n",
       "    \n",
       "                heat_map_9d85d67ef741a073a3985c3dae94aa37.addTo(map_8d095c411e5b96249310c08edaa5c850);\n",
       "&lt;/script&gt;\n",
       "&lt;/html&gt;\" style=\"position:absolute;width:100%;height:100%;left:0;top:0;border:none !important;\" allowfullscreen webkitallowfullscreen mozallowfullscreen></iframe></div></div>"
      ],
      "text/plain": [
       "<folium.folium.Map at 0x7ff2a98f4310>"
      ]
     },
     "execution_count": 2,
     "metadata": {},
     "output_type": "execute_result"
    }
   ],
   "source": [
    "import folium\n",
    "from folium.plugins import HeatMap\n",
    "\n",
    "m = folium.Map([48.0, 5.0], tiles=\"stamentoner\", zoom_start=6)\n",
    "\n",
    "HeatMap(data).add_to(m)\n",
    "\n",
    "m"
   ]
  }
 ],
 "metadata": {
  "jupytext": {
   "text_representation": {
    "extension": ".mystnb",
    "format_name": "myst"
   }
  },
  "language_info": {
   "codemirror_mode": {
    "name": "ipython",
    "version": 3
   },
   "file_extension": ".py",
   "mimetype": "text/x-python",
   "name": "python",
   "nbconvert_exporter": "python",
   "pygments_lexer": "ipython3",
   "version": "3.11.6"
  }
 },
 "nbformat": 4,
 "nbformat_minor": 5
}
