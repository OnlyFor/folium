{
 "cells": [
  {
   "cell_type": "markdown",
   "id": "d0ddb296",
   "metadata": {},
   "source": [
    "## Heatmap"
   ]
  },
  {
   "cell_type": "code",
   "execution_count": 1,
   "id": "1e2e4d6a",
   "metadata": {
    "execution": {
     "iopub.execute_input": "2023-11-06T17:05:04.324837Z",
     "iopub.status.busy": "2023-11-06T17:05:04.324526Z",
     "iopub.status.idle": "2023-11-06T17:05:04.404444Z",
     "shell.execute_reply": "2023-11-06T17:05:04.403809Z"
    }
   },
   "outputs": [],
   "source": [
    "import numpy as np\n",
    "\n",
    "data = (\n",
    "    np.random.normal(size=(100, 3)) * np.array([[1, 1, 1]]) + np.array([[48, 5, 1]])\n",
    ").tolist()"
   ]
  },
  {
   "cell_type": "code",
   "execution_count": 2,
   "id": "ad0f89ff",
   "metadata": {
    "execution": {
     "iopub.execute_input": "2023-11-06T17:05:04.409340Z",
     "iopub.status.busy": "2023-11-06T17:05:04.408101Z",
     "iopub.status.idle": "2023-11-06T17:05:05.022031Z",
     "shell.execute_reply": "2023-11-06T17:05:05.020427Z"
    }
   },
   "outputs": [
    {
     "data": {
      "text/html": [
       "<div style=\"width:100%;\"><div style=\"position:relative;width:100%;height:0;padding-bottom:60%;\"><span style=\"color:#565656\">Make this Notebook Trusted to load map: File -> Trust Notebook</span><iframe srcdoc=\"&lt;!DOCTYPE html&gt;\n",
       "&lt;html&gt;\n",
       "&lt;head&gt;\n",
       "    \n",
       "    &lt;meta http-equiv=&quot;content-type&quot; content=&quot;text/html; charset=UTF-8&quot; /&gt;\n",
       "    \n",
       "        &lt;script&gt;\n",
       "            L_NO_TOUCH = false;\n",
       "            L_DISABLE_3D = false;\n",
       "        &lt;/script&gt;\n",
       "    \n",
       "    &lt;style&gt;html, body {width: 100%;height: 100%;margin: 0;padding: 0;}&lt;/style&gt;\n",
       "    &lt;style&gt;#map {position:absolute;top:0;bottom:0;right:0;left:0;}&lt;/style&gt;\n",
       "    &lt;script src=&quot;https://cdn.jsdelivr.net/npm/leaflet@1.9.3/dist/leaflet.js&quot;&gt;&lt;/script&gt;\n",
       "    &lt;script src=&quot;https://code.jquery.com/jquery-1.12.4.min.js&quot;&gt;&lt;/script&gt;\n",
       "    &lt;script src=&quot;https://cdn.jsdelivr.net/npm/bootstrap@5.2.2/dist/js/bootstrap.bundle.min.js&quot;&gt;&lt;/script&gt;\n",
       "    &lt;script src=&quot;https://cdnjs.cloudflare.com/ajax/libs/Leaflet.awesome-markers/2.0.2/leaflet.awesome-markers.js&quot;&gt;&lt;/script&gt;\n",
       "    &lt;link rel=&quot;stylesheet&quot; href=&quot;https://cdn.jsdelivr.net/npm/leaflet@1.9.3/dist/leaflet.css&quot;/&gt;\n",
       "    &lt;link rel=&quot;stylesheet&quot; href=&quot;https://cdn.jsdelivr.net/npm/bootstrap@5.2.2/dist/css/bootstrap.min.css&quot;/&gt;\n",
       "    &lt;link rel=&quot;stylesheet&quot; href=&quot;https://netdna.bootstrapcdn.com/bootstrap/3.0.0/css/bootstrap.min.css&quot;/&gt;\n",
       "    &lt;link rel=&quot;stylesheet&quot; href=&quot;https://cdn.jsdelivr.net/npm/@fortawesome/fontawesome-free@6.2.0/css/all.min.css&quot;/&gt;\n",
       "    &lt;link rel=&quot;stylesheet&quot; href=&quot;https://cdnjs.cloudflare.com/ajax/libs/Leaflet.awesome-markers/2.0.2/leaflet.awesome-markers.css&quot;/&gt;\n",
       "    &lt;link rel=&quot;stylesheet&quot; href=&quot;https://cdn.jsdelivr.net/gh/python-visualization/folium/folium/templates/leaflet.awesome.rotate.min.css&quot;/&gt;\n",
       "    \n",
       "            &lt;meta name=&quot;viewport&quot; content=&quot;width=device-width,\n",
       "                initial-scale=1.0, maximum-scale=1.0, user-scalable=no&quot; /&gt;\n",
       "            &lt;style&gt;\n",
       "                #map_cdccda1e12da214ecb17acb52a067dfe {\n",
       "                    position: relative;\n",
       "                    width: 100.0%;\n",
       "                    height: 100.0%;\n",
       "                    left: 0.0%;\n",
       "                    top: 0.0%;\n",
       "                }\n",
       "                .leaflet-container { font-size: 1rem; }\n",
       "            &lt;/style&gt;\n",
       "        \n",
       "    &lt;script src=&quot;https://cdn.jsdelivr.net/gh/python-visualization/folium@main/folium/templates/leaflet_heat.min.js&quot;&gt;&lt;/script&gt;\n",
       "&lt;/head&gt;\n",
       "&lt;body&gt;\n",
       "    \n",
       "    \n",
       "            &lt;div class=&quot;folium-map&quot; id=&quot;map_cdccda1e12da214ecb17acb52a067dfe&quot; &gt;&lt;/div&gt;\n",
       "        \n",
       "&lt;/body&gt;\n",
       "&lt;script&gt;\n",
       "    \n",
       "    \n",
       "            var map_cdccda1e12da214ecb17acb52a067dfe = L.map(\n",
       "                &quot;map_cdccda1e12da214ecb17acb52a067dfe&quot;,\n",
       "                {\n",
       "                    center: [48.0, 5.0],\n",
       "                    crs: L.CRS.EPSG3857,\n",
       "                    zoom: 6,\n",
       "                    zoomControl: true,\n",
       "                    preferCanvas: false,\n",
       "                }\n",
       "            );\n",
       "\n",
       "            \n",
       "\n",
       "        \n",
       "    \n",
       "            var tile_layer_3091999fddf2a6cf466d0845af4b5ecc = L.tileLayer(\n",
       "                &quot;https://{s}.tile.openstreetmap.org/{z}/{x}/{y}.png&quot;,\n",
       "                {&quot;attribution&quot;: &quot;Data by \\u0026copy; \\u003ca target=\\&quot;_blank\\&quot; href=\\&quot;http://openstreetmap.org\\&quot;\\u003eOpenStreetMap\\u003c/a\\u003e, under \\u003ca target=\\&quot;_blank\\&quot; href=\\&quot;http://www.openstreetmap.org/copyright\\&quot;\\u003eODbL\\u003c/a\\u003e.&quot;, &quot;detectRetina&quot;: false, &quot;maxNativeZoom&quot;: 18, &quot;maxZoom&quot;: 18, &quot;minZoom&quot;: 0, &quot;noWrap&quot;: false, &quot;opacity&quot;: 1, &quot;subdomains&quot;: &quot;abc&quot;, &quot;tms&quot;: false}\n",
       "            );\n",
       "        \n",
       "    \n",
       "                tile_layer_3091999fddf2a6cf466d0845af4b5ecc.addTo(map_cdccda1e12da214ecb17acb52a067dfe);\n",
       "    \n",
       "            var heat_map_d386d570578b4d5a45b8e36c94b4c164 = L.heatLayer(\n",
       "                [[47.08902218337851, 3.896726224983981, 0.701856455199479], [48.58322490616195, 3.6546409371231574, 1.0596218980853118], [46.90247766578805, 4.383957616342362, 1.7591182057144508], [48.11927117790018, 5.383925048950672, 0.38175640445131276], [47.95445145714183, 4.291712514777032, 0.4655675107061721], [47.95471735376687, 3.4680987356657162, 0.46095460856681636], [49.28106405868356, 3.568986403386277, 0.7479467430335751], [48.23218597856861, 4.94076171318339, 0.3258550608215156], [47.74583672093055, 3.8966373630067457, 0.4917876658019703], [47.7045480576653, 5.181256721076165, -1.1901128468439337], [48.678453030999655, 2.6497077160226046, 2.4951714631873343], [47.58840121006944, 3.956723123174889, 1.1657356984057103], [47.413872738412195, 4.732598299293058, 0.9627433253084234], [47.86331119425785, 3.5406444579918057, 2.606147139658616], [50.413126890104934, 6.0392527905524425, -0.13984196533625126], [49.33745081435432, 5.1729402733699805, 1.720760942684405], [47.155551572697895, 6.373115881193494, -0.27525830687098707], [48.29725927461177, 6.2052777011073, 2.2273176054761357], [46.815197030579235, 4.048201127430762, 1.4428862981774224], [49.03743100509749, 5.41401527399129, 0.8378292968892835], [48.11201510773673, 3.8271634029269825, 2.56814917367421], [47.05287720650877, 4.504185542912301, 0.8050705597306893], [49.78683202460501, 4.349375435347239, 3.4445823116548047], [48.15727700762218, 5.68020899739245, -0.25504863117335486], [49.728859905585836, 3.7063619044565774, 2.946096636322856], [48.366029635477254, 6.171293620155868, 1.8736056074074936], [48.48676173252801, 5.995386538992294, -0.2166619101537206], [49.476549666294545, 5.466613772110826, -2.2345496540892484], [47.80631133855883, 5.030452348859333, 0.9200436511859212], [46.8715854644674, 5.223242826877001, -0.3474295430275196], [47.15070311200031, 5.109219349724234, 0.08010061986915884], [47.68229079255673, 5.537939065174968, 1.3012149875346581], [48.06831810876217, 5.845290206803358, 0.5441963591593295], [48.59801215730703, 3.928182906031547, 1.0089957115311425], [48.24024154110932, 5.4527729392370174, 1.445591563051876], [47.65324126620445, 4.630013202845634, 0.13466383108455549], [48.53014208558973, 5.498859179267567, -0.5760268448974244], [46.69549243871228, 4.449709284521712, -0.1891566169108505], [47.50579718920699, 5.179428178702814, 3.1071010039141416], [47.00825834183074, 4.4793588592955, 1.3744650329683092], [48.66159788349436, 5.212641245289772, 1.4270731760006072], [48.94985195553722, 4.697189444185773, 0.6103547511509427], [48.30293107008692, 6.3354667380670335, 1.5779169405628846], [48.081627221938255, 4.087273852021179, 0.5820675012807187], [48.43408183896416, 5.293177091964671, -0.4304517359123625], [48.08844373646229, 4.8753064671482225, 1.146277722369589], [47.60404026760219, 4.879664661987768, 1.4745113194819652], [46.724553098044325, 4.857165302682771, -0.2742370425940679], [48.67732234462014, 6.365542886247994, 0.853244840808617], [47.26508323663068, 4.76958060383194, 1.743593523883097], [48.17965014817412, 4.734984845956934, 1.8125588449822005], [48.40886731246032, 4.53589667520154, 1.3557020186188873], [47.86524931064129, 2.7169785525819155, 0.7470538642124454], [47.11458437084444, 5.597488655893464, 1.73759011956658], [46.50405278959975, 5.001947719254158, -0.328485640936131], [45.144501403721996, 5.43305181170798, 2.222200991507556], [48.20461897541792, 5.420990138860725, 1.8168453298069143], [47.48675661753264, 5.429760693492377, 1.2740947009969565], [50.20343244012676, 4.497574560570925, 0.7889600211049156], [46.62348681458335, 5.242456711739502, 1.6684534687061185], [47.33528231285737, 2.3024922176186, 0.3178006903914763], [48.02660669351551, 5.80266683060554, -0.7534299074941979], [48.87362461662317, 5.3681185780324014, 0.8525098162790822], [48.4325735560588, 5.296450130342687, 0.6612442604846575], [48.46447907607925, 4.894186903413023, 1.0002852289452153], [47.040483382708025, 4.153619950954111, 1.1749209964021567], [46.98566139539043, 4.456414674911903, 2.93345960370002], [47.3965740841792, 5.91551484270616, 1.6400679007798078], [46.16886539243533, 4.431819217220513, 0.9364360231142695], [47.34021498980171, 4.113432592163539, -0.7108806300264081], [46.3145407191589, 5.83046012840287, 1.705234414179137], [49.0646504028922, 4.573388199580568, 0.5378391016334161], [47.957694329941035, 4.750180831414329, 0.3794550393387143], [48.16667969672111, 4.293256168302575, 0.7489155704427918], [46.16100706509945, 3.4931449680569324, 0.6346317568608328], [50.329174008610096, 5.526104247100694, 0.5216492262793293], [48.07234135065322, 4.710505726308094, -0.19735206417849072], [46.50686088156045, 2.0991255840567646, 2.102361460361988], [47.40544269659141, 5.21534239899344, 0.3027989555561045], [47.059806491515324, 5.76773514665212, -0.1687412916331208], [49.04327172470075, 3.79552307476835, 0.8916828830188592], [47.927325313120406, 6.230955289318198, 2.417579992026993], [49.112352576147664, 3.7899481443848875, 2.317031304557066], [47.93691172184093, 5.372225991397557, 1.9934396548712239], [47.360238442864386, 7.010710892100873, 0.8714110441265455], [48.69333820919293, 4.865095601900357, 0.795219105147629], [48.11211131327179, 4.6868764757385275, 1.3682068639034397], [46.56842897678859, 3.04524495836387, 2.0388052790508144], [49.1844305136391, 7.54357922991679, 0.3750470720312885], [46.497350496183486, 5.7676110113562595, 1.118387209421385], [47.45657955921687, 4.637802543152196, 1.5325269253536997], [47.81282157115193, 6.473370789257395, 1.1401862902713147], [48.653219096084094, 5.048800388465675, 0.9822590218356773], [48.64232177645421, 5.313618835231324, 2.4129243630006036], [47.21107969609532, 4.24557776313537, -0.32118127045699363], [47.973555085467886, 4.442830647355567, 1.3723931575527972], [47.67353958419815, 6.652509540051806, 0.5698148744589939], [49.60759949601873, 4.848884993158817, 0.7626230903742601], [47.24066413385854, 2.824545276415861, 1.322851797747319], [48.98910939905239, 5.161472023028632, 0.8930010534288282]],\n",
       "                {&quot;blur&quot;: 15, &quot;maxZoom&quot;: 18, &quot;minOpacity&quot;: 0.5, &quot;radius&quot;: 25}\n",
       "            );\n",
       "        \n",
       "    \n",
       "                heat_map_d386d570578b4d5a45b8e36c94b4c164.addTo(map_cdccda1e12da214ecb17acb52a067dfe);\n",
       "&lt;/script&gt;\n",
       "&lt;/html&gt;\" style=\"position:absolute;width:100%;height:100%;left:0;top:0;border:none !important;\" allowfullscreen webkitallowfullscreen mozallowfullscreen></iframe></div></div>"
      ],
      "text/plain": [
       "<folium.folium.Map at 0x7fd136adb350>"
      ]
     },
     "execution_count": 2,
     "metadata": {},
     "output_type": "execute_result"
    }
   ],
   "source": [
    "import folium\n",
    "from folium.plugins import HeatMap\n",
    "\n",
    "m = folium.Map([48.0, 5.0], zoom_start=6)\n",
    "\n",
    "HeatMap(data).add_to(m)\n",
    "\n",
    "m"
   ]
  }
 ],
 "metadata": {
  "jupytext": {
   "text_representation": {
    "extension": ".mystnb",
    "format_name": "myst"
   }
  },
  "language_info": {
   "codemirror_mode": {
    "name": "ipython",
    "version": 3
   },
   "file_extension": ".py",
   "mimetype": "text/x-python",
   "name": "python",
   "nbconvert_exporter": "python",
   "pygments_lexer": "ipython3",
   "version": "3.12.0"
  }
 },
 "nbformat": 4,
 "nbformat_minor": 5
}
