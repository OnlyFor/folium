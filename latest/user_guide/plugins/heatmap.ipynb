{
 "cells": [
  {
   "cell_type": "markdown",
   "id": "79a8d894",
   "metadata": {},
   "source": [
    "## Heatmap"
   ]
  },
  {
   "cell_type": "code",
   "execution_count": 1,
   "id": "fc90881f",
   "metadata": {
    "execution": {
     "iopub.execute_input": "2023-11-06T17:28:53.753619Z",
     "iopub.status.busy": "2023-11-06T17:28:53.753214Z",
     "iopub.status.idle": "2023-11-06T17:28:53.818666Z",
     "shell.execute_reply": "2023-11-06T17:28:53.818163Z"
    }
   },
   "outputs": [],
   "source": [
    "import numpy as np\n",
    "\n",
    "data = (\n",
    "    np.random.normal(size=(100, 3)) * np.array([[1, 1, 1]]) + np.array([[48, 5, 1]])\n",
    ").tolist()"
   ]
  },
  {
   "cell_type": "code",
   "execution_count": 2,
   "id": "93e626b5",
   "metadata": {
    "execution": {
     "iopub.execute_input": "2023-11-06T17:28:53.822466Z",
     "iopub.status.busy": "2023-11-06T17:28:53.821568Z",
     "iopub.status.idle": "2023-11-06T17:28:54.230369Z",
     "shell.execute_reply": "2023-11-06T17:28:54.229901Z"
    }
   },
   "outputs": [
    {
     "data": {
      "text/html": [
       "<div style=\"width:100%;\"><div style=\"position:relative;width:100%;height:0;padding-bottom:60%;\"><span style=\"color:#565656\">Make this Notebook Trusted to load map: File -> Trust Notebook</span><iframe srcdoc=\"&lt;!DOCTYPE html&gt;\n",
       "&lt;html&gt;\n",
       "&lt;head&gt;\n",
       "    \n",
       "    &lt;meta http-equiv=&quot;content-type&quot; content=&quot;text/html; charset=UTF-8&quot; /&gt;\n",
       "    \n",
       "        &lt;script&gt;\n",
       "            L_NO_TOUCH = false;\n",
       "            L_DISABLE_3D = false;\n",
       "        &lt;/script&gt;\n",
       "    \n",
       "    &lt;style&gt;html, body {width: 100%;height: 100%;margin: 0;padding: 0;}&lt;/style&gt;\n",
       "    &lt;style&gt;#map {position:absolute;top:0;bottom:0;right:0;left:0;}&lt;/style&gt;\n",
       "    &lt;script src=&quot;https://cdn.jsdelivr.net/npm/leaflet@1.9.3/dist/leaflet.js&quot;&gt;&lt;/script&gt;\n",
       "    &lt;script src=&quot;https://code.jquery.com/jquery-3.7.1.min.js&quot;&gt;&lt;/script&gt;\n",
       "    &lt;script src=&quot;https://cdn.jsdelivr.net/npm/bootstrap@5.2.2/dist/js/bootstrap.bundle.min.js&quot;&gt;&lt;/script&gt;\n",
       "    &lt;script src=&quot;https://cdnjs.cloudflare.com/ajax/libs/Leaflet.awesome-markers/2.0.2/leaflet.awesome-markers.js&quot;&gt;&lt;/script&gt;\n",
       "    &lt;link rel=&quot;stylesheet&quot; href=&quot;https://cdn.jsdelivr.net/npm/leaflet@1.9.3/dist/leaflet.css&quot;/&gt;\n",
       "    &lt;link rel=&quot;stylesheet&quot; href=&quot;https://cdn.jsdelivr.net/npm/bootstrap@5.2.2/dist/css/bootstrap.min.css&quot;/&gt;\n",
       "    &lt;link rel=&quot;stylesheet&quot; href=&quot;https://netdna.bootstrapcdn.com/bootstrap/3.0.0/css/bootstrap.min.css&quot;/&gt;\n",
       "    &lt;link rel=&quot;stylesheet&quot; href=&quot;https://cdn.jsdelivr.net/npm/@fortawesome/fontawesome-free@6.2.0/css/all.min.css&quot;/&gt;\n",
       "    &lt;link rel=&quot;stylesheet&quot; href=&quot;https://cdnjs.cloudflare.com/ajax/libs/Leaflet.awesome-markers/2.0.2/leaflet.awesome-markers.css&quot;/&gt;\n",
       "    &lt;link rel=&quot;stylesheet&quot; href=&quot;https://cdn.jsdelivr.net/gh/python-visualization/folium/folium/templates/leaflet.awesome.rotate.min.css&quot;/&gt;\n",
       "    \n",
       "            &lt;meta name=&quot;viewport&quot; content=&quot;width=device-width,\n",
       "                initial-scale=1.0, maximum-scale=1.0, user-scalable=no&quot; /&gt;\n",
       "            &lt;style&gt;\n",
       "                #map_d158f9f2b97f06cafaf83e8fbf636d25 {\n",
       "                    position: relative;\n",
       "                    width: 100.0%;\n",
       "                    height: 100.0%;\n",
       "                    left: 0.0%;\n",
       "                    top: 0.0%;\n",
       "                }\n",
       "                .leaflet-container { font-size: 1rem; }\n",
       "            &lt;/style&gt;\n",
       "        \n",
       "    &lt;script src=&quot;https://cdn.jsdelivr.net/gh/python-visualization/folium@main/folium/templates/leaflet_heat.min.js&quot;&gt;&lt;/script&gt;\n",
       "&lt;/head&gt;\n",
       "&lt;body&gt;\n",
       "    \n",
       "    \n",
       "            &lt;div class=&quot;folium-map&quot; id=&quot;map_d158f9f2b97f06cafaf83e8fbf636d25&quot; &gt;&lt;/div&gt;\n",
       "        \n",
       "&lt;/body&gt;\n",
       "&lt;script&gt;\n",
       "    \n",
       "    \n",
       "            var map_d158f9f2b97f06cafaf83e8fbf636d25 = L.map(\n",
       "                &quot;map_d158f9f2b97f06cafaf83e8fbf636d25&quot;,\n",
       "                {\n",
       "                    center: [48.0, 5.0],\n",
       "                    crs: L.CRS.EPSG3857,\n",
       "                    zoom: 6,\n",
       "                    zoomControl: true,\n",
       "                    preferCanvas: false,\n",
       "                }\n",
       "            );\n",
       "\n",
       "            \n",
       "\n",
       "        \n",
       "    \n",
       "            var tile_layer_8757ba9e9bd6c6f58b486ccf881ef95b = L.tileLayer(\n",
       "                &quot;https://{s}.tile.openstreetmap.org/{z}/{x}/{y}.png&quot;,\n",
       "                {&quot;attribution&quot;: &quot;Data by \\u0026copy; \\u003ca target=\\&quot;_blank\\&quot; href=\\&quot;http://openstreetmap.org\\&quot;\\u003eOpenStreetMap\\u003c/a\\u003e, under \\u003ca target=\\&quot;_blank\\&quot; href=\\&quot;http://www.openstreetmap.org/copyright\\&quot;\\u003eODbL\\u003c/a\\u003e.&quot;, &quot;detectRetina&quot;: false, &quot;maxNativeZoom&quot;: 18, &quot;maxZoom&quot;: 18, &quot;minZoom&quot;: 0, &quot;noWrap&quot;: false, &quot;opacity&quot;: 1, &quot;subdomains&quot;: &quot;abc&quot;, &quot;tms&quot;: false}\n",
       "            );\n",
       "        \n",
       "    \n",
       "                tile_layer_8757ba9e9bd6c6f58b486ccf881ef95b.addTo(map_d158f9f2b97f06cafaf83e8fbf636d25);\n",
       "    \n",
       "            var heat_map_86d1e37590d63fb7c63d7085c67506e5 = L.heatLayer(\n",
       "                [[48.045525274269934, 5.439589849945997, 1.7874715037231315], [48.50019166517227, 3.6624481878427275, 0.7362799855768751], [48.22632007060007, 4.829277939251912, 2.2702460241083524], [48.94303221939177, 4.5294511346927635, 1.743229606161965], [48.82039686384202, 6.271388043690848, -0.21344370240957877], [50.22842760999401, 3.8423066908073116, 2.780495939048388], [47.87466422553716, 4.626759520683751, 0.9978153937376315], [46.92750085272425, 5.246902473058099, 2.923343673347258], [47.39960962073231, 5.244258012394972, 1.73739798310468], [47.9384948500915, 3.510379244044469, 1.453044070492638], [49.01938275976276, 4.5848892338926435, 0.4228628041040615], [48.261108220808715, 4.01266162911794, 1.964026984377214], [48.84725356077108, 3.5305018458863127, 2.412412756669183], [48.83803851896567, 5.928320429224116, 1.3864493075373028], [47.87524356865738, 4.417617590810882, 1.1879924703645357], [47.23671264686427, 4.013750197057039, 0.3820552946463972], [47.8017297703504, 6.037648878298161, 0.4218367040129477], [48.07214837080085, 5.509060419003235, 1.2360471707070335], [48.24484626815016, 3.9404680017764306, 1.2432654357280297], [47.39234084816866, 4.657151179890892, 0.2897576831448194], [48.674162889858565, 3.7756608508502456, 1.2318049962436237], [48.431825698841166, 3.967794085991974, 0.19980501712858756], [47.832244720159146, 5.237095382699294, 0.7318483256022812], [48.65863739846688, 5.263297419367697, 0.09878305109106678], [49.343571708869646, 5.539525069998992, 1.0215394526465154], [48.88356067259519, 3.4251170873209347, 0.5946397326727498], [47.1626362625313, 4.951713159826226, 1.0822875921435007], [48.27302692382059, 5.0778929964168915, 2.219237209889342], [50.80210620423346, 5.475734781063324, 2.7967068132696205], [47.67710990701978, 6.249843318694794, 1.948318865609267], [45.861317902361264, 5.114644826917672, 1.3638489317505145], [50.59871372706335, 7.542735443498625, 1.3190063353071773], [48.49700664064001, 4.973090450490878, 0.25221399995565086], [49.413200894824264, 3.6539214718331516, 1.34478814341362], [48.1387059334781, 5.943647805006253, 2.170477438226806], [48.70333509739218, 5.948837032448804, 0.8006015059571803], [48.872896495627614, 4.719125755855682, 1.7182479372533914], [48.34413433012802, 4.955590002515712, 1.0252883163129902], [47.2066139652033, 6.900079400990272, -0.2695642488487391], [48.962161272852875, 5.0114193726100895, -0.952663108591919], [48.81089676344511, 5.750500519965933, 0.9660443772705473], [48.02073299909357, 5.538969257304382, 0.5742250948728747], [48.37505485143404, 4.768623234455158, 0.4223818548243733], [45.96840596712572, 5.839933387073459, 3.2976361193414325], [49.04866103400736, 4.815402920351562, 1.5867184184415288], [48.216072385995716, 5.091156889499691, 2.634519199165765], [46.19340066287917, 5.4685559323353985, 1.3959455146032025], [48.833033003939015, 5.085726122181407, 1.0055402696102367], [47.44393735975791, 5.389769615561008, 1.5690393995306895], [47.283107973281105, 6.367682501653972, 0.9635632877898166], [48.19942207547607, 5.364391586440814, -0.06499621973861291], [46.332797187766445, 5.759305013499825, -0.26433517014749763], [47.68542111714248, 4.023305443106875, 0.6926783714508085], [46.96156129036357, 6.377105885015145, 2.7349714626753743], [46.5265320587588, 4.610941744425231, 0.028967131107466404], [48.412321782149434, 4.34665644920198, 1.261056756314805], [46.599835627060386, 3.646131817856053, 1.0717550531681224], [47.74757719822242, 4.797356771298453, -0.09355417244518538], [46.928341380534775, 5.836681499588137, 0.936353787824679], [46.34072700892027, 4.535847411412724, 2.0214321062291685], [48.04785041075598, 4.012088528335097, 1.6458129816264226], [47.43813105928709, 4.058741752953608, 1.504093477718893], [47.77072007937489, 4.404048670589835, 1.894755972706571], [48.45430456963694, 3.4195454319443415, 2.0052225072830034], [48.705650877172346, 7.042149251331686, 0.5933983193690098], [47.404054360494975, 4.912751487071158, 0.2490800828191797], [47.92260460279767, 5.554544771874988, -0.5368966049537429], [45.895750799910374, 4.755793148555812, 2.1630910344509693], [48.314745788587715, 5.308697187061992, 2.073942193014547], [49.93080369600038, 2.933941302775338, 2.2605860232128716], [47.55129233997922, 5.69649109859186, 0.949374732958777], [49.94147479493624, 4.757379454332108, 1.0733274871957013], [47.28087602118942, 5.868613391924539, 0.5318474764330783], [47.92032431116327, 5.310919407431309, -0.010799016592983213], [48.368515161520605, 3.9832307161027143, 1.8831081602514774], [46.01438546314853, 5.159911618269452, -0.21905700665995043], [47.11091324550871, 4.3834286293996225, 0.06647526988360963], [48.81446300878776, 5.329439186796296, 0.6685271570092688], [48.62541840229786, 5.820930502854675, -0.1137097043273616], [48.34012110251054, 4.789708978957689, 0.7330403974669908], [48.19122285173183, 6.489880437478728, 2.1670361806698226], [47.83080755289426, 3.3262895810153776, 2.0600182282017805], [47.45939697135012, 6.342080295379003, 2.4933114691911666], [49.17604700819066, 3.9777802849884427, -0.1429858836851381], [47.46722926586922, 5.522017843434296, -0.5617448590518308], [46.84923855874799, 4.132913121765556, 2.959626303955373], [47.62180548027776, 6.1440354738841805, -0.526387395512077], [48.63505230736339, 3.332381607102872, -0.5809042486220475], [48.800820738480596, 5.920017114516517, 1.1578722721076966], [48.52985339305607, 4.061945519629865, -0.22452695377688747], [47.58584508214863, 4.571245556907568, 0.707380410116623], [48.28968072497083, 4.747499826420915, 1.169082421532519], [50.813238239050605, 6.7130631645220165, 1.4919821834633629], [49.42095169799589, 5.570491501571105, 0.3673749720567606], [47.90252530679904, 2.9365039728191187, 2.1258769135952886], [47.321930638839376, 6.050024330599635, 1.7293276822131398], [48.123966955602775, 5.922107314037364, 1.4101393422309445], [48.91642552833732, 4.084019952732547, 1.242701447883413], [49.66139459025556, 5.235602396340086, 1.0193892569832437], [47.94944814205415, 8.323602451237234, 0.473116359633033]],\n",
       "                {&quot;blur&quot;: 15, &quot;maxZoom&quot;: 18, &quot;minOpacity&quot;: 0.5, &quot;radius&quot;: 25}\n",
       "            );\n",
       "        \n",
       "    \n",
       "                heat_map_86d1e37590d63fb7c63d7085c67506e5.addTo(map_d158f9f2b97f06cafaf83e8fbf636d25);\n",
       "&lt;/script&gt;\n",
       "&lt;/html&gt;\" style=\"position:absolute;width:100%;height:100%;left:0;top:0;border:none !important;\" allowfullscreen webkitallowfullscreen mozallowfullscreen></iframe></div></div>"
      ],
      "text/plain": [
       "<folium.folium.Map at 0x7f91ef25a4b0>"
      ]
     },
     "execution_count": 2,
     "metadata": {},
     "output_type": "execute_result"
    }
   ],
   "source": [
    "import folium\n",
    "from folium.plugins import HeatMap\n",
    "\n",
    "m = folium.Map([48.0, 5.0], zoom_start=6)\n",
    "\n",
    "HeatMap(data).add_to(m)\n",
    "\n",
    "m"
   ]
  }
 ],
 "metadata": {
  "jupytext": {
   "text_representation": {
    "extension": ".mystnb",
    "format_name": "myst"
   }
  },
  "language_info": {
   "codemirror_mode": {
    "name": "ipython",
    "version": 3
   },
   "file_extension": ".py",
   "mimetype": "text/x-python",
   "name": "python",
   "nbconvert_exporter": "python",
   "pygments_lexer": "ipython3",
   "version": "3.12.0"
  }
 },
 "nbformat": 4,
 "nbformat_minor": 5
}
