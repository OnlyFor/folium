{
 "cells": [
  {
   "cell_type": "markdown",
   "id": "9a405bfa",
   "metadata": {},
   "source": [
    "## Heatmap"
   ]
  },
  {
   "cell_type": "code",
   "execution_count": 1,
   "id": "fcc95061",
   "metadata": {
    "execution": {
     "iopub.execute_input": "2024-06-25T18:37:47.562929Z",
     "iopub.status.busy": "2024-06-25T18:37:47.562764Z",
     "iopub.status.idle": "2024-06-25T18:37:47.614515Z",
     "shell.execute_reply": "2024-06-25T18:37:47.614027Z"
    }
   },
   "outputs": [],
   "source": [
    "import numpy as np\n",
    "\n",
    "data = (\n",
    "    np.random.normal(size=(100, 3)) * np.array([[1, 1, 1]]) + np.array([[48, 5, 1]])\n",
    ").tolist()"
   ]
  },
  {
   "cell_type": "code",
   "execution_count": 2,
   "id": "0255e6b5",
   "metadata": {
    "execution": {
     "iopub.execute_input": "2024-06-25T18:37:47.618057Z",
     "iopub.status.busy": "2024-06-25T18:37:47.617170Z",
     "iopub.status.idle": "2024-06-25T18:37:48.068549Z",
     "shell.execute_reply": "2024-06-25T18:37:48.068016Z"
    }
   },
   "outputs": [
    {
     "data": {
      "text/html": [
       "<div style=\"width:100%;\"><div style=\"position:relative;width:100%;height:0;padding-bottom:60%;\"><span style=\"color:#565656\">Make this Notebook Trusted to load map: File -> Trust Notebook</span><iframe srcdoc=\"&lt;!DOCTYPE html&gt;\n",
       "&lt;html&gt;\n",
       "&lt;head&gt;\n",
       "    \n",
       "    &lt;meta http-equiv=&quot;content-type&quot; content=&quot;text/html; charset=UTF-8&quot; /&gt;\n",
       "    \n",
       "        &lt;script&gt;\n",
       "            L_NO_TOUCH = false;\n",
       "            L_DISABLE_3D = false;\n",
       "        &lt;/script&gt;\n",
       "    \n",
       "    &lt;style&gt;html, body {width: 100%;height: 100%;margin: 0;padding: 0;}&lt;/style&gt;\n",
       "    &lt;style&gt;#map {position:absolute;top:0;bottom:0;right:0;left:0;}&lt;/style&gt;\n",
       "    &lt;script src=&quot;https://cdn.jsdelivr.net/npm/leaflet@1.9.3/dist/leaflet.js&quot;&gt;&lt;/script&gt;\n",
       "    &lt;script src=&quot;https://code.jquery.com/jquery-3.7.1.min.js&quot;&gt;&lt;/script&gt;\n",
       "    &lt;script src=&quot;https://cdn.jsdelivr.net/npm/bootstrap@5.2.2/dist/js/bootstrap.bundle.min.js&quot;&gt;&lt;/script&gt;\n",
       "    &lt;script src=&quot;https://cdnjs.cloudflare.com/ajax/libs/Leaflet.awesome-markers/2.0.2/leaflet.awesome-markers.js&quot;&gt;&lt;/script&gt;\n",
       "    &lt;link rel=&quot;stylesheet&quot; href=&quot;https://cdn.jsdelivr.net/npm/leaflet@1.9.3/dist/leaflet.css&quot;/&gt;\n",
       "    &lt;link rel=&quot;stylesheet&quot; href=&quot;https://cdn.jsdelivr.net/npm/bootstrap@5.2.2/dist/css/bootstrap.min.css&quot;/&gt;\n",
       "    &lt;link rel=&quot;stylesheet&quot; href=&quot;https://netdna.bootstrapcdn.com/bootstrap/3.0.0/css/bootstrap-glyphicons.css&quot;/&gt;\n",
       "    &lt;link rel=&quot;stylesheet&quot; href=&quot;https://cdn.jsdelivr.net/npm/@fortawesome/fontawesome-free@6.2.0/css/all.min.css&quot;/&gt;\n",
       "    &lt;link rel=&quot;stylesheet&quot; href=&quot;https://cdnjs.cloudflare.com/ajax/libs/Leaflet.awesome-markers/2.0.2/leaflet.awesome-markers.css&quot;/&gt;\n",
       "    &lt;link rel=&quot;stylesheet&quot; href=&quot;https://cdn.jsdelivr.net/gh/python-visualization/folium/folium/templates/leaflet.awesome.rotate.min.css&quot;/&gt;\n",
       "    \n",
       "            &lt;meta name=&quot;viewport&quot; content=&quot;width=device-width,\n",
       "                initial-scale=1.0, maximum-scale=1.0, user-scalable=no&quot; /&gt;\n",
       "            &lt;style&gt;\n",
       "                #map_ccddff6bac74ce2c66348e71cdc84750 {\n",
       "                    position: relative;\n",
       "                    width: 100.0%;\n",
       "                    height: 100.0%;\n",
       "                    left: 0.0%;\n",
       "                    top: 0.0%;\n",
       "                }\n",
       "                .leaflet-container { font-size: 1rem; }\n",
       "            &lt;/style&gt;\n",
       "        \n",
       "    &lt;script src=&quot;https://cdn.jsdelivr.net/gh/python-visualization/folium@main/folium/templates/leaflet_heat.min.js&quot;&gt;&lt;/script&gt;\n",
       "&lt;/head&gt;\n",
       "&lt;body&gt;\n",
       "    \n",
       "    \n",
       "            &lt;div class=&quot;folium-map&quot; id=&quot;map_ccddff6bac74ce2c66348e71cdc84750&quot; &gt;&lt;/div&gt;\n",
       "        \n",
       "&lt;/body&gt;\n",
       "&lt;script&gt;\n",
       "    \n",
       "    \n",
       "            var map_ccddff6bac74ce2c66348e71cdc84750 = L.map(\n",
       "                &quot;map_ccddff6bac74ce2c66348e71cdc84750&quot;,\n",
       "                {\n",
       "                    center: [48.0, 5.0],\n",
       "                    crs: L.CRS.EPSG3857,\n",
       "                    zoom: 6,\n",
       "                    zoomControl: true,\n",
       "                    preferCanvas: false,\n",
       "                }\n",
       "            );\n",
       "\n",
       "            \n",
       "\n",
       "        \n",
       "    \n",
       "            var tile_layer_97de27f7c990d7d56c82bb3ebee0b722 = L.tileLayer(\n",
       "                &quot;https://tile.openstreetmap.org/{z}/{x}/{y}.png&quot;,\n",
       "                {&quot;attribution&quot;: &quot;\\u0026copy; \\u003ca href=\\&quot;https://www.openstreetmap.org/copyright\\&quot;\\u003eOpenStreetMap\\u003c/a\\u003e contributors&quot;, &quot;detectRetina&quot;: false, &quot;maxNativeZoom&quot;: 19, &quot;maxZoom&quot;: 19, &quot;minZoom&quot;: 0, &quot;noWrap&quot;: false, &quot;opacity&quot;: 1, &quot;subdomains&quot;: &quot;abc&quot;, &quot;tms&quot;: false}\n",
       "            );\n",
       "        \n",
       "    \n",
       "            tile_layer_97de27f7c990d7d56c82bb3ebee0b722.addTo(map_ccddff6bac74ce2c66348e71cdc84750);\n",
       "        \n",
       "    \n",
       "            var heat_map_f13604220c4713fcea97541abc909a43 = L.heatLayer(\n",
       "                [[48.52210100667107, 5.011479618148286, 2.8679834470219063], [47.24155727447268, 6.677796564825129, 1.572675460873977], [47.06739915570644, 5.723443561665979, 0.425254556389852], [48.55170352422185, 3.2842952516548882, 0.8370318152820516], [48.06163717175347, 7.189949329710448, 1.1610797345401638], [47.79483429038321, 2.8500091712078532, 1.5774599677967784], [48.11521945393795, 4.94142246584121, 3.1029342595934355], [48.646360582974935, 4.588226045470349, 2.0153592634363537], [48.9467310511764, 5.181779724791224, 1.7866046558167152], [48.40198060875927, 4.276691701317018, 2.28449502811313], [48.08499072266259, 6.031296204029621, -0.34433399305711143], [49.49900703716111, 5.106671608170384, 0.792107224066442], [48.88585621222465, 5.08892534002468, 2.427486531281942], [47.64299534287537, 4.77775425546934, 0.18778886408504425], [51.01002429675009, 4.5330930702341785, 2.521455589509427], [49.83685940668188, 2.671629149971846, 0.21512906670859533], [47.83877343867258, 5.798525052870462, 1.751061812960908], [49.14725022861976, 2.5015330326511287, 1.876342237846306], [48.28072160499115, 5.785864291935494, 0.4100627930484301], [47.71958759862064, 5.913464191475936, 1.9965225558884896], [48.13899887467909, 4.467963416142584, 0.5921650337257254], [47.93530394480307, 6.784019450971617, 0.47797761260177807], [48.35381198579628, 4.790566193110786, 2.0006641571979396], [47.586715801479976, 3.332275401384102, 1.696075057264661], [46.116919797266966, 4.606455725715836, 1.1732934171594072], [48.000362149374084, 5.473425600898961, -0.25915611469668387], [47.095580582007024, 4.616361301890995, 1.5089536682984384], [45.81461963632154, 6.641293230551705, 0.6869599612773443], [48.471206100561595, 5.758929653064007, 0.8317601606439299], [46.57766523268091, 5.317861779363914, 2.0248628690510593], [49.86786982131376, 4.435644211757578, 1.7002586303308715], [47.81893989767757, 4.508368058110458, -0.15439939802285774], [47.88959054395639, 5.084308837229764, 1.7086708437938891], [49.06343377943913, 5.4040520789164646, 0.15053497310433683], [47.50673584347036, 4.800612355719913, 0.7762824556418333], [47.88635745005084, 5.1659249690371425, 1.1361607544937498], [48.61583022106327, 4.54315304995281, 0.7786102335254304], [47.9045238365707, 5.915143797308096, 2.4216756182117027], [47.93285387895757, 4.0170607081365794, 0.3136680739267681], [49.10650674151966, 4.932901091008208, 0.62625739075695], [46.902497097632484, 4.069084393858801, -2.060170119657559], [48.38580082016973, 5.96844573406462, 1.2015135463592472], [46.46683115258755, 6.571391892964792, 0.8093631570933595], [46.94859797020618, 5.215373632315971, -1.9224049665351743], [48.0518825678899, 5.5504459578836745, -0.6555330594247719], [45.89668650624492, 4.956364090761856, 1.5582050375218706], [46.66713275233473, 4.1733797607866325, 0.6443387981171178], [45.54018271504397, 3.212331736906637, 0.18405926486629953], [47.06061640400831, 4.7005556292147705, 1.226553137520251], [48.25743479225024, 6.2030501239949185, 3.5557578318803427], [49.55732728940826, 4.636380939670403, -0.3559720527082333], [48.16249155901685, 5.455438983141316, -0.731577474049733], [46.251953313523146, 5.96811597520591, -1.0516906373262636], [48.08361796520633, 6.3190739728057075, 1.323857958104866], [47.28190644230757, 4.3014419797256105, 1.9937733311779722], [48.68111860000619, 3.3964196293399587, 1.0867033634951593], [46.87338115130998, 4.111693292934953, 0.436546783251199], [47.731642813597475, 5.136085189121059, -0.42680715887658316], [47.093863650540904, 4.407122246646399, 0.25614943835817106], [45.99366853838567, 5.301874016973061, 1.226080233169474], [48.0948458454533, 5.88800359341144, 0.10457685694375729], [48.67593787217547, 4.542338064371988, 0.6018960110714897], [47.354440841134696, 4.756704295988523, 1.3303428054350612], [47.641023330554084, 5.970912194852713, 1.1789123064775597], [45.8928484189027, 4.974953355828395, 1.3219916212897251], [48.51617446118173, 4.532078117963702, 0.11352292626814031], [48.06842082812167, 4.747722566767128, 1.1574921846100117], [49.44144469808662, 1.4798895117887119, 1.347166184504761], [47.77104391615319, 4.497774629369579, -0.1209755656952276], [48.2395951615735, 4.686213834757806, 1.7297611518001623], [48.04216221025333, 5.775134410878651, 0.5774290597919627], [48.69771142303903, 4.841706331690043, 0.5053859614205387], [51.09461003871311, 5.181420006174346, 1.7795510272756707], [48.00393761518487, 5.323588216965838, 2.1487208799600976], [46.901844131812105, 4.801684118766213, -0.07922628964442513], [49.60466882718883, 4.120169658826769, 1.535161921225609], [49.772277631936674, 4.76033217169169, 1.5818561298760718], [47.69316885343152, 5.2039387835897815, 1.3178528210411318], [48.23410680982644, 4.820401693579898, 0.30642365919876613], [47.73657170964487, 5.239980951286698, 1.8082816312092889], [45.88053517593386, 5.035113636783424, 0.4437244647956754], [50.33989500931224, 4.892586004455409, 1.8038668811372645], [48.34975005711107, 3.814177352545908, 1.6371205586831614], [46.497948385812066, 4.274241074404576, 1.4507250260890543], [48.16608518000875, 5.509997799357379, 0.0583255923390098], [45.58768009735725, 6.799444734667266, 1.051532770816581], [50.484141083043845, 5.286427012935887, 0.4709168146468764], [47.37514759702963, 5.288142091017686, -0.3549033843498308], [49.252934739181576, 4.754571321912278, 1.921579949058144], [46.46412788683916, 5.712360469037937, 1.4990604046578326], [47.08158522493887, 4.508861070669285, 2.2242528791680276], [46.429076332870615, 5.128012865265485, 1.8486314137001452], [48.94686796992444, 3.6274936941972937, 2.492487590397663], [47.655557452456016, 4.678504651568518, 1.8451731367866793], [48.78406618514381, 5.419444086486434, 0.08800885732711661], [48.9289961698685, 4.346421265791675, -0.9969534114198713], [46.59957589442919, 5.718448605427953, 0.9325276609127934], [48.02216599358139, 5.710351027359486, 2.004073680193395], [49.4878536653789, 5.697083262400236, 1.5835996586938919], [47.343904288743886, 5.602531275734662, 1.6086030782408365]],\n",
       "                {&quot;blur&quot;: 15, &quot;maxZoom&quot;: 18, &quot;minOpacity&quot;: 0.5, &quot;radius&quot;: 25}\n",
       "            );\n",
       "        \n",
       "    \n",
       "            heat_map_f13604220c4713fcea97541abc909a43.addTo(map_ccddff6bac74ce2c66348e71cdc84750);\n",
       "        \n",
       "&lt;/script&gt;\n",
       "&lt;/html&gt;\" style=\"position:absolute;width:100%;height:100%;left:0;top:0;border:none !important;\" allowfullscreen webkitallowfullscreen mozallowfullscreen></iframe></div></div>"
      ],
      "text/plain": [
       "<folium.folium.Map at 0x7fdc0c06d940>"
      ]
     },
     "execution_count": 2,
     "metadata": {},
     "output_type": "execute_result"
    }
   ],
   "source": [
    "import folium\n",
    "from folium.plugins import HeatMap\n",
    "\n",
    "m = folium.Map([48.0, 5.0], zoom_start=6)\n",
    "\n",
    "HeatMap(data).add_to(m)\n",
    "\n",
    "m"
   ]
  }
 ],
 "metadata": {
  "jupytext": {
   "text_representation": {
    "extension": ".mystnb",
    "format_name": "myst"
   }
  },
  "language_info": {
   "codemirror_mode": {
    "name": "ipython",
    "version": 3
   },
   "file_extension": ".py",
   "mimetype": "text/x-python",
   "name": "python",
   "nbconvert_exporter": "python",
   "pygments_lexer": "ipython3",
   "version": "3.12.4"
  }
 },
 "nbformat": 4,
 "nbformat_minor": 5
}
